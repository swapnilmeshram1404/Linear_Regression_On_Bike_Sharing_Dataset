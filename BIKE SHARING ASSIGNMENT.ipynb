{
 "cells": [
  {
   "cell_type": "markdown",
   "id": "59c6ff11",
   "metadata": {},
   "source": [
    "### Importing Libraries"
   ]
  },
  {
   "cell_type": "code",
   "execution_count": 1,
   "id": "1f4163d5",
   "metadata": {},
   "outputs": [],
   "source": [
    "import numpy as np\n",
    "\n",
    "import pandas as pd\n",
    "\n",
    "import matplotlib.pyplot as plt\n",
    "\n",
    "import seaborn as sns"
   ]
  },
  {
   "cell_type": "code",
   "execution_count": 2,
   "id": "0de1a574",
   "metadata": {},
   "outputs": [],
   "source": [
    "data = pd.read_csv(\"day.csv\")"
   ]
  },
  {
   "cell_type": "code",
   "execution_count": 3,
   "id": "2b585f41",
   "metadata": {},
   "outputs": [
    {
     "data": {
      "text/html": [
       "<div>\n",
       "<style scoped>\n",
       "    .dataframe tbody tr th:only-of-type {\n",
       "        vertical-align: middle;\n",
       "    }\n",
       "\n",
       "    .dataframe tbody tr th {\n",
       "        vertical-align: top;\n",
       "    }\n",
       "\n",
       "    .dataframe thead th {\n",
       "        text-align: right;\n",
       "    }\n",
       "</style>\n",
       "<table border=\"1\" class=\"dataframe\">\n",
       "  <thead>\n",
       "    <tr style=\"text-align: right;\">\n",
       "      <th></th>\n",
       "      <th>instant</th>\n",
       "      <th>dteday</th>\n",
       "      <th>season</th>\n",
       "      <th>yr</th>\n",
       "      <th>mnth</th>\n",
       "      <th>holiday</th>\n",
       "      <th>weekday</th>\n",
       "      <th>workingday</th>\n",
       "      <th>weathersit</th>\n",
       "      <th>temp</th>\n",
       "      <th>atemp</th>\n",
       "      <th>hum</th>\n",
       "      <th>windspeed</th>\n",
       "      <th>casual</th>\n",
       "      <th>registered</th>\n",
       "      <th>cnt</th>\n",
       "    </tr>\n",
       "  </thead>\n",
       "  <tbody>\n",
       "    <tr>\n",
       "      <th>0</th>\n",
       "      <td>1</td>\n",
       "      <td>01-01-18</td>\n",
       "      <td>1</td>\n",
       "      <td>0</td>\n",
       "      <td>1</td>\n",
       "      <td>0</td>\n",
       "      <td>6</td>\n",
       "      <td>0</td>\n",
       "      <td>2</td>\n",
       "      <td>14.110847</td>\n",
       "      <td>18.18125</td>\n",
       "      <td>80.5833</td>\n",
       "      <td>10.749882</td>\n",
       "      <td>331</td>\n",
       "      <td>654</td>\n",
       "      <td>985</td>\n",
       "    </tr>\n",
       "    <tr>\n",
       "      <th>1</th>\n",
       "      <td>2</td>\n",
       "      <td>02-01-18</td>\n",
       "      <td>1</td>\n",
       "      <td>0</td>\n",
       "      <td>1</td>\n",
       "      <td>0</td>\n",
       "      <td>0</td>\n",
       "      <td>0</td>\n",
       "      <td>2</td>\n",
       "      <td>14.902598</td>\n",
       "      <td>17.68695</td>\n",
       "      <td>69.6087</td>\n",
       "      <td>16.652113</td>\n",
       "      <td>131</td>\n",
       "      <td>670</td>\n",
       "      <td>801</td>\n",
       "    </tr>\n",
       "    <tr>\n",
       "      <th>2</th>\n",
       "      <td>3</td>\n",
       "      <td>03-01-18</td>\n",
       "      <td>1</td>\n",
       "      <td>0</td>\n",
       "      <td>1</td>\n",
       "      <td>0</td>\n",
       "      <td>1</td>\n",
       "      <td>1</td>\n",
       "      <td>1</td>\n",
       "      <td>8.050924</td>\n",
       "      <td>9.47025</td>\n",
       "      <td>43.7273</td>\n",
       "      <td>16.636703</td>\n",
       "      <td>120</td>\n",
       "      <td>1229</td>\n",
       "      <td>1349</td>\n",
       "    </tr>\n",
       "    <tr>\n",
       "      <th>3</th>\n",
       "      <td>4</td>\n",
       "      <td>04-01-18</td>\n",
       "      <td>1</td>\n",
       "      <td>0</td>\n",
       "      <td>1</td>\n",
       "      <td>0</td>\n",
       "      <td>2</td>\n",
       "      <td>1</td>\n",
       "      <td>1</td>\n",
       "      <td>8.200000</td>\n",
       "      <td>10.60610</td>\n",
       "      <td>59.0435</td>\n",
       "      <td>10.739832</td>\n",
       "      <td>108</td>\n",
       "      <td>1454</td>\n",
       "      <td>1562</td>\n",
       "    </tr>\n",
       "    <tr>\n",
       "      <th>4</th>\n",
       "      <td>5</td>\n",
       "      <td>05-01-18</td>\n",
       "      <td>1</td>\n",
       "      <td>0</td>\n",
       "      <td>1</td>\n",
       "      <td>0</td>\n",
       "      <td>3</td>\n",
       "      <td>1</td>\n",
       "      <td>1</td>\n",
       "      <td>9.305237</td>\n",
       "      <td>11.46350</td>\n",
       "      <td>43.6957</td>\n",
       "      <td>12.522300</td>\n",
       "      <td>82</td>\n",
       "      <td>1518</td>\n",
       "      <td>1600</td>\n",
       "    </tr>\n",
       "  </tbody>\n",
       "</table>\n",
       "</div>"
      ],
      "text/plain": [
       "   instant    dteday  season  yr  mnth  holiday  weekday  workingday  \\\n",
       "0        1  01-01-18       1   0     1        0        6           0   \n",
       "1        2  02-01-18       1   0     1        0        0           0   \n",
       "2        3  03-01-18       1   0     1        0        1           1   \n",
       "3        4  04-01-18       1   0     1        0        2           1   \n",
       "4        5  05-01-18       1   0     1        0        3           1   \n",
       "\n",
       "   weathersit       temp     atemp      hum  windspeed  casual  registered  \\\n",
       "0           2  14.110847  18.18125  80.5833  10.749882     331         654   \n",
       "1           2  14.902598  17.68695  69.6087  16.652113     131         670   \n",
       "2           1   8.050924   9.47025  43.7273  16.636703     120        1229   \n",
       "3           1   8.200000  10.60610  59.0435  10.739832     108        1454   \n",
       "4           1   9.305237  11.46350  43.6957  12.522300      82        1518   \n",
       "\n",
       "    cnt  \n",
       "0   985  \n",
       "1   801  \n",
       "2  1349  \n",
       "3  1562  \n",
       "4  1600  "
      ]
     },
     "execution_count": 3,
     "metadata": {},
     "output_type": "execute_result"
    }
   ],
   "source": [
    "data.head()"
   ]
  },
  {
   "cell_type": "code",
   "execution_count": 4,
   "id": "ee4bc090",
   "metadata": {},
   "outputs": [
    {
     "data": {
      "text/plain": [
       "(730, 16)"
      ]
     },
     "execution_count": 4,
     "metadata": {},
     "output_type": "execute_result"
    }
   ],
   "source": [
    "data.shape"
   ]
  },
  {
   "cell_type": "code",
   "execution_count": 5,
   "id": "9289982d",
   "metadata": {},
   "outputs": [
    {
     "name": "stdout",
     "output_type": "stream",
     "text": [
      "<class 'pandas.core.frame.DataFrame'>\n",
      "RangeIndex: 730 entries, 0 to 729\n",
      "Data columns (total 16 columns):\n",
      " #   Column      Non-Null Count  Dtype  \n",
      "---  ------      --------------  -----  \n",
      " 0   instant     730 non-null    int64  \n",
      " 1   dteday      730 non-null    object \n",
      " 2   season      730 non-null    int64  \n",
      " 3   yr          730 non-null    int64  \n",
      " 4   mnth        730 non-null    int64  \n",
      " 5   holiday     730 non-null    int64  \n",
      " 6   weekday     730 non-null    int64  \n",
      " 7   workingday  730 non-null    int64  \n",
      " 8   weathersit  730 non-null    int64  \n",
      " 9   temp        730 non-null    float64\n",
      " 10  atemp       730 non-null    float64\n",
      " 11  hum         730 non-null    float64\n",
      " 12  windspeed   730 non-null    float64\n",
      " 13  casual      730 non-null    int64  \n",
      " 14  registered  730 non-null    int64  \n",
      " 15  cnt         730 non-null    int64  \n",
      "dtypes: float64(4), int64(11), object(1)\n",
      "memory usage: 91.4+ KB\n"
     ]
    }
   ],
   "source": [
    "data.info()"
   ]
  },
  {
   "cell_type": "markdown",
   "id": "8111da13",
   "metadata": {},
   "source": [
    "### Data Cleaning"
   ]
  },
  {
   "cell_type": "markdown",
   "id": "5b5ed38b",
   "metadata": {},
   "source": [
    "### Dropping Irrelevent Columns"
   ]
  },
  {
   "cell_type": "code",
   "execution_count": 6,
   "id": "c20d9996",
   "metadata": {},
   "outputs": [
    {
     "data": {
      "text/plain": [
       "Index(['instant', 'dteday', 'season', 'yr', 'mnth', 'holiday', 'weekday',\n",
       "       'workingday', 'weathersit', 'temp', 'atemp', 'hum', 'windspeed',\n",
       "       'casual', 'registered', 'cnt'],\n",
       "      dtype='object')"
      ]
     },
     "execution_count": 6,
     "metadata": {},
     "output_type": "execute_result"
    }
   ],
   "source": [
    "data.columns"
   ]
  },
  {
   "cell_type": "code",
   "execution_count": 7,
   "id": "ec5d0d15",
   "metadata": {},
   "outputs": [],
   "source": [
    "data = data.drop([\"instant\"], axis = 1)"
   ]
  },
  {
   "cell_type": "code",
   "execution_count": 8,
   "id": "cb84bf93",
   "metadata": {},
   "outputs": [],
   "source": [
    "data = data.drop(['casual'] , axis = 1)"
   ]
  },
  {
   "cell_type": "code",
   "execution_count": 9,
   "id": "fb269e0e",
   "metadata": {},
   "outputs": [],
   "source": [
    "data = data.drop(['registered'] , axis = 1)"
   ]
  },
  {
   "cell_type": "code",
   "execution_count": 10,
   "id": "8d2cdcea",
   "metadata": {},
   "outputs": [
    {
     "data": {
      "text/plain": [
       "(730, 13)"
      ]
     },
     "execution_count": 10,
     "metadata": {},
     "output_type": "execute_result"
    }
   ],
   "source": [
    "data.shape"
   ]
  },
  {
   "cell_type": "markdown",
   "id": "7a8bb1d9",
   "metadata": {},
   "source": [
    "### Checking Null Values"
   ]
  },
  {
   "cell_type": "code",
   "execution_count": 11,
   "id": "6c974760",
   "metadata": {},
   "outputs": [
    {
     "data": {
      "text/plain": [
       "dteday        0\n",
       "season        0\n",
       "yr            0\n",
       "mnth          0\n",
       "holiday       0\n",
       "weekday       0\n",
       "workingday    0\n",
       "weathersit    0\n",
       "temp          0\n",
       "atemp         0\n",
       "hum           0\n",
       "windspeed     0\n",
       "cnt           0\n",
       "dtype: int64"
      ]
     },
     "execution_count": 11,
     "metadata": {},
     "output_type": "execute_result"
    }
   ],
   "source": [
    "data.isnull().sum()"
   ]
  },
  {
   "cell_type": "markdown",
   "id": "be15e854",
   "metadata": {},
   "source": [
    "### Converting Dteday Column To Date Datatype"
   ]
  },
  {
   "cell_type": "code",
   "execution_count": 12,
   "id": "7eb39b4d",
   "metadata": {},
   "outputs": [],
   "source": [
    "data[\"dteday\"] =   pd.to_datetime(data[\"dteday\"])"
   ]
  },
  {
   "cell_type": "code",
   "execution_count": 13,
   "id": "88c7ef35",
   "metadata": {},
   "outputs": [
    {
     "data": {
      "text/plain": [
       "dtype('<M8[ns]')"
      ]
     },
     "execution_count": 13,
     "metadata": {},
     "output_type": "execute_result"
    }
   ],
   "source": [
    "data[\"dteday\"].dtype"
   ]
  },
  {
   "cell_type": "code",
   "execution_count": 14,
   "id": "5af126ab",
   "metadata": {},
   "outputs": [
    {
     "data": {
      "text/plain": [
       "array([2018, 2019], dtype=int64)"
      ]
     },
     "execution_count": 14,
     "metadata": {},
     "output_type": "execute_result"
    }
   ],
   "source": [
    "data[\"dteday\"].dt.year.unique()"
   ]
  },
  {
   "cell_type": "markdown",
   "id": "2f453fc7",
   "metadata": {},
   "source": [
    "### Encoding Season Column With Categorical Values"
   ]
  },
  {
   "cell_type": "code",
   "execution_count": 15,
   "id": "67b4dbec",
   "metadata": {},
   "outputs": [
    {
     "data": {
      "text/plain": [
       "array([1, 2, 3, 4], dtype=int64)"
      ]
     },
     "execution_count": 15,
     "metadata": {},
     "output_type": "execute_result"
    }
   ],
   "source": [
    "data[\"season\"].unique()"
   ]
  },
  {
   "cell_type": "code",
   "execution_count": 16,
   "id": "df5a67ba",
   "metadata": {},
   "outputs": [],
   "source": [
    "#season : season (1:spring, 2:summer, 3:fall, 4:winter)"
   ]
  },
  {
   "cell_type": "code",
   "execution_count": 17,
   "id": "e8ddea2f",
   "metadata": {},
   "outputs": [],
   "source": [
    "season = {1: 'spring', \n",
    "          2:'summer', \n",
    "          3:'fall', \n",
    "          4:'winter'}"
   ]
  },
  {
   "cell_type": "code",
   "execution_count": 18,
   "id": "870830fd",
   "metadata": {},
   "outputs": [],
   "source": [
    "data[\"season\"] = data[\"season\"].map(season)"
   ]
  },
  {
   "cell_type": "code",
   "execution_count": 19,
   "id": "5893889e",
   "metadata": {},
   "outputs": [
    {
     "data": {
      "text/plain": [
       "array(['spring', 'summer', 'fall', 'winter'], dtype=object)"
      ]
     },
     "execution_count": 19,
     "metadata": {},
     "output_type": "execute_result"
    }
   ],
   "source": [
    "data.season.unique()"
   ]
  },
  {
   "cell_type": "markdown",
   "id": "8f179398",
   "metadata": {},
   "source": [
    "### Encoding Year Column With Actual Year Values "
   ]
  },
  {
   "cell_type": "code",
   "execution_count": 20,
   "id": "497f365a",
   "metadata": {},
   "outputs": [],
   "source": [
    "year = {0: 2018, \n",
    "        1: 2019}"
   ]
  },
  {
   "cell_type": "code",
   "execution_count": 21,
   "id": "b8231731",
   "metadata": {},
   "outputs": [],
   "source": [
    "data[\"yr\"] = data[\"yr\"].map(year)"
   ]
  },
  {
   "cell_type": "code",
   "execution_count": 22,
   "id": "706b772f",
   "metadata": {},
   "outputs": [
    {
     "data": {
      "text/plain": [
       "array([2018, 2019], dtype=int64)"
      ]
     },
     "execution_count": 22,
     "metadata": {},
     "output_type": "execute_result"
    }
   ],
   "source": [
    "data[\"yr\"].unique()"
   ]
  },
  {
   "cell_type": "code",
   "execution_count": 23,
   "id": "ca96a486",
   "metadata": {},
   "outputs": [
    {
     "data": {
      "text/html": [
       "<div>\n",
       "<style scoped>\n",
       "    .dataframe tbody tr th:only-of-type {\n",
       "        vertical-align: middle;\n",
       "    }\n",
       "\n",
       "    .dataframe tbody tr th {\n",
       "        vertical-align: top;\n",
       "    }\n",
       "\n",
       "    .dataframe thead th {\n",
       "        text-align: right;\n",
       "    }\n",
       "</style>\n",
       "<table border=\"1\" class=\"dataframe\">\n",
       "  <thead>\n",
       "    <tr style=\"text-align: right;\">\n",
       "      <th></th>\n",
       "      <th>dteday</th>\n",
       "      <th>season</th>\n",
       "      <th>yr</th>\n",
       "      <th>mnth</th>\n",
       "      <th>holiday</th>\n",
       "      <th>weekday</th>\n",
       "      <th>workingday</th>\n",
       "      <th>weathersit</th>\n",
       "      <th>temp</th>\n",
       "      <th>atemp</th>\n",
       "      <th>hum</th>\n",
       "      <th>windspeed</th>\n",
       "      <th>cnt</th>\n",
       "    </tr>\n",
       "  </thead>\n",
       "  <tbody>\n",
       "    <tr>\n",
       "      <th>0</th>\n",
       "      <td>2018-01-01</td>\n",
       "      <td>spring</td>\n",
       "      <td>2018</td>\n",
       "      <td>1</td>\n",
       "      <td>0</td>\n",
       "      <td>6</td>\n",
       "      <td>0</td>\n",
       "      <td>2</td>\n",
       "      <td>14.110847</td>\n",
       "      <td>18.18125</td>\n",
       "      <td>80.5833</td>\n",
       "      <td>10.749882</td>\n",
       "      <td>985</td>\n",
       "    </tr>\n",
       "    <tr>\n",
       "      <th>1</th>\n",
       "      <td>2018-02-01</td>\n",
       "      <td>spring</td>\n",
       "      <td>2018</td>\n",
       "      <td>1</td>\n",
       "      <td>0</td>\n",
       "      <td>0</td>\n",
       "      <td>0</td>\n",
       "      <td>2</td>\n",
       "      <td>14.902598</td>\n",
       "      <td>17.68695</td>\n",
       "      <td>69.6087</td>\n",
       "      <td>16.652113</td>\n",
       "      <td>801</td>\n",
       "    </tr>\n",
       "    <tr>\n",
       "      <th>2</th>\n",
       "      <td>2018-03-01</td>\n",
       "      <td>spring</td>\n",
       "      <td>2018</td>\n",
       "      <td>1</td>\n",
       "      <td>0</td>\n",
       "      <td>1</td>\n",
       "      <td>1</td>\n",
       "      <td>1</td>\n",
       "      <td>8.050924</td>\n",
       "      <td>9.47025</td>\n",
       "      <td>43.7273</td>\n",
       "      <td>16.636703</td>\n",
       "      <td>1349</td>\n",
       "    </tr>\n",
       "    <tr>\n",
       "      <th>3</th>\n",
       "      <td>2018-04-01</td>\n",
       "      <td>spring</td>\n",
       "      <td>2018</td>\n",
       "      <td>1</td>\n",
       "      <td>0</td>\n",
       "      <td>2</td>\n",
       "      <td>1</td>\n",
       "      <td>1</td>\n",
       "      <td>8.200000</td>\n",
       "      <td>10.60610</td>\n",
       "      <td>59.0435</td>\n",
       "      <td>10.739832</td>\n",
       "      <td>1562</td>\n",
       "    </tr>\n",
       "    <tr>\n",
       "      <th>4</th>\n",
       "      <td>2018-05-01</td>\n",
       "      <td>spring</td>\n",
       "      <td>2018</td>\n",
       "      <td>1</td>\n",
       "      <td>0</td>\n",
       "      <td>3</td>\n",
       "      <td>1</td>\n",
       "      <td>1</td>\n",
       "      <td>9.305237</td>\n",
       "      <td>11.46350</td>\n",
       "      <td>43.6957</td>\n",
       "      <td>12.522300</td>\n",
       "      <td>1600</td>\n",
       "    </tr>\n",
       "  </tbody>\n",
       "</table>\n",
       "</div>"
      ],
      "text/plain": [
       "      dteday  season    yr  mnth  holiday  weekday  workingday  weathersit  \\\n",
       "0 2018-01-01  spring  2018     1        0        6           0           2   \n",
       "1 2018-02-01  spring  2018     1        0        0           0           2   \n",
       "2 2018-03-01  spring  2018     1        0        1           1           1   \n",
       "3 2018-04-01  spring  2018     1        0        2           1           1   \n",
       "4 2018-05-01  spring  2018     1        0        3           1           1   \n",
       "\n",
       "        temp     atemp      hum  windspeed   cnt  \n",
       "0  14.110847  18.18125  80.5833  10.749882   985  \n",
       "1  14.902598  17.68695  69.6087  16.652113   801  \n",
       "2   8.050924   9.47025  43.7273  16.636703  1349  \n",
       "3   8.200000  10.60610  59.0435  10.739832  1562  \n",
       "4   9.305237  11.46350  43.6957  12.522300  1600  "
      ]
     },
     "execution_count": 23,
     "metadata": {},
     "output_type": "execute_result"
    }
   ],
   "source": [
    "data.head()"
   ]
  },
  {
   "cell_type": "markdown",
   "id": "28855dd2",
   "metadata": {},
   "source": [
    "### Encoding Month Column With Actual Months "
   ]
  },
  {
   "cell_type": "code",
   "execution_count": 24,
   "id": "a6936f00",
   "metadata": {},
   "outputs": [
    {
     "data": {
      "text/plain": [
       "array([ 1,  2,  3,  4,  5,  6,  7,  8,  9, 10, 11, 12], dtype=int64)"
      ]
     },
     "execution_count": 24,
     "metadata": {},
     "output_type": "execute_result"
    }
   ],
   "source": [
    "data[\"mnth\"].unique()"
   ]
  },
  {
   "cell_type": "code",
   "execution_count": 25,
   "id": "bb7db55b",
   "metadata": {},
   "outputs": [],
   "source": [
    "month = {1 : \"Jan\" , 2 : \"Feb\", 3 : \"Mar\" , 4 : \" Apr\" , 5 : \"May\" , 6 : \"Jun\",\n",
    "         7 : \"Jul\", 8 : \"Aug\" , 9 : \"Sep\" , 10 : \"Oct\" , 11 : \"Nov\" , 12 : \"Dec\"}"
   ]
  },
  {
   "cell_type": "code",
   "execution_count": 26,
   "id": "9c5085f7",
   "metadata": {},
   "outputs": [],
   "source": [
    "data[\"mnth\"] = data[\"mnth\"].map(month)"
   ]
  },
  {
   "cell_type": "code",
   "execution_count": 27,
   "id": "af9c158e",
   "metadata": {},
   "outputs": [
    {
     "data": {
      "text/plain": [
       "array(['Jan', 'Feb', 'Mar', ' Apr', 'May', 'Jun', 'Jul', 'Aug', 'Sep',\n",
       "       'Oct', 'Nov', 'Dec'], dtype=object)"
      ]
     },
     "execution_count": 27,
     "metadata": {},
     "output_type": "execute_result"
    }
   ],
   "source": [
    "data[\"mnth\"].unique()"
   ]
  },
  {
   "cell_type": "markdown",
   "id": "2e0a976f",
   "metadata": {},
   "source": [
    "### Encoding Weekday Column With Actual Day Names"
   ]
  },
  {
   "cell_type": "code",
   "execution_count": 28,
   "id": "d39c9006",
   "metadata": {},
   "outputs": [
    {
     "data": {
      "text/plain": [
       "array([6, 0, 1, 2, 3, 4, 5], dtype=int64)"
      ]
     },
     "execution_count": 28,
     "metadata": {},
     "output_type": "execute_result"
    }
   ],
   "source": [
    "data[\"weekday\"].unique()"
   ]
  },
  {
   "cell_type": "code",
   "execution_count": 29,
   "id": "7106ecc7",
   "metadata": {},
   "outputs": [],
   "source": [
    "day = {0 : \"Sun\" , 1 : \"Mon\" , 2 : \"Tue\" , 3 : \"Wed\" ,\n",
    "      4 : \"Thu\" , 5 : \"Fri\", 6 : \"Sat\"}"
   ]
  },
  {
   "cell_type": "code",
   "execution_count": 30,
   "id": "a61eb4f7",
   "metadata": {},
   "outputs": [],
   "source": [
    "data[\"weekday\"] = data[\"weekday\"].map(day)"
   ]
  },
  {
   "cell_type": "markdown",
   "id": "0b4f27ae",
   "metadata": {},
   "source": [
    "### Encoding Weathersit Column With Actual Weather Type"
   ]
  },
  {
   "cell_type": "code",
   "execution_count": 31,
   "id": "123dad72",
   "metadata": {},
   "outputs": [
    {
     "data": {
      "text/plain": [
       "array([2, 1, 3], dtype=int64)"
      ]
     },
     "execution_count": 31,
     "metadata": {},
     "output_type": "execute_result"
    }
   ],
   "source": [
    "data[\"weathersit\"].unique()"
   ]
  },
  {
   "cell_type": "code",
   "execution_count": 33,
   "id": "d0f63b15",
   "metadata": {},
   "outputs": [],
   "source": [
    "weather = {1 : \"Clear\",\n",
    "          2 : \"Cloudy\",\n",
    "          3 : \"Light Rain\"}"
   ]
  },
  {
   "cell_type": "code",
   "execution_count": 34,
   "id": "36b57a76",
   "metadata": {},
   "outputs": [],
   "source": [
    "data[\"weathersit\"] = data[\"weathersit\"].map(weather)"
   ]
  },
  {
   "cell_type": "code",
   "execution_count": 35,
   "id": "a92a79e9",
   "metadata": {
    "scrolled": true
   },
   "outputs": [
    {
     "data": {
      "text/html": [
       "<div>\n",
       "<style scoped>\n",
       "    .dataframe tbody tr th:only-of-type {\n",
       "        vertical-align: middle;\n",
       "    }\n",
       "\n",
       "    .dataframe tbody tr th {\n",
       "        vertical-align: top;\n",
       "    }\n",
       "\n",
       "    .dataframe thead th {\n",
       "        text-align: right;\n",
       "    }\n",
       "</style>\n",
       "<table border=\"1\" class=\"dataframe\">\n",
       "  <thead>\n",
       "    <tr style=\"text-align: right;\">\n",
       "      <th></th>\n",
       "      <th>dteday</th>\n",
       "      <th>season</th>\n",
       "      <th>yr</th>\n",
       "      <th>mnth</th>\n",
       "      <th>holiday</th>\n",
       "      <th>weekday</th>\n",
       "      <th>workingday</th>\n",
       "      <th>weathersit</th>\n",
       "      <th>temp</th>\n",
       "      <th>atemp</th>\n",
       "      <th>hum</th>\n",
       "      <th>windspeed</th>\n",
       "      <th>cnt</th>\n",
       "    </tr>\n",
       "  </thead>\n",
       "  <tbody>\n",
       "    <tr>\n",
       "      <th>0</th>\n",
       "      <td>2018-01-01</td>\n",
       "      <td>spring</td>\n",
       "      <td>2018</td>\n",
       "      <td>Jan</td>\n",
       "      <td>0</td>\n",
       "      <td>Sat</td>\n",
       "      <td>0</td>\n",
       "      <td>Cloudy</td>\n",
       "      <td>14.110847</td>\n",
       "      <td>18.18125</td>\n",
       "      <td>80.5833</td>\n",
       "      <td>10.749882</td>\n",
       "      <td>985</td>\n",
       "    </tr>\n",
       "    <tr>\n",
       "      <th>1</th>\n",
       "      <td>2018-02-01</td>\n",
       "      <td>spring</td>\n",
       "      <td>2018</td>\n",
       "      <td>Jan</td>\n",
       "      <td>0</td>\n",
       "      <td>Sun</td>\n",
       "      <td>0</td>\n",
       "      <td>Cloudy</td>\n",
       "      <td>14.902598</td>\n",
       "      <td>17.68695</td>\n",
       "      <td>69.6087</td>\n",
       "      <td>16.652113</td>\n",
       "      <td>801</td>\n",
       "    </tr>\n",
       "    <tr>\n",
       "      <th>2</th>\n",
       "      <td>2018-03-01</td>\n",
       "      <td>spring</td>\n",
       "      <td>2018</td>\n",
       "      <td>Jan</td>\n",
       "      <td>0</td>\n",
       "      <td>Mon</td>\n",
       "      <td>1</td>\n",
       "      <td>Clear</td>\n",
       "      <td>8.050924</td>\n",
       "      <td>9.47025</td>\n",
       "      <td>43.7273</td>\n",
       "      <td>16.636703</td>\n",
       "      <td>1349</td>\n",
       "    </tr>\n",
       "    <tr>\n",
       "      <th>3</th>\n",
       "      <td>2018-04-01</td>\n",
       "      <td>spring</td>\n",
       "      <td>2018</td>\n",
       "      <td>Jan</td>\n",
       "      <td>0</td>\n",
       "      <td>Tue</td>\n",
       "      <td>1</td>\n",
       "      <td>Clear</td>\n",
       "      <td>8.200000</td>\n",
       "      <td>10.60610</td>\n",
       "      <td>59.0435</td>\n",
       "      <td>10.739832</td>\n",
       "      <td>1562</td>\n",
       "    </tr>\n",
       "    <tr>\n",
       "      <th>4</th>\n",
       "      <td>2018-05-01</td>\n",
       "      <td>spring</td>\n",
       "      <td>2018</td>\n",
       "      <td>Jan</td>\n",
       "      <td>0</td>\n",
       "      <td>Wed</td>\n",
       "      <td>1</td>\n",
       "      <td>Clear</td>\n",
       "      <td>9.305237</td>\n",
       "      <td>11.46350</td>\n",
       "      <td>43.6957</td>\n",
       "      <td>12.522300</td>\n",
       "      <td>1600</td>\n",
       "    </tr>\n",
       "  </tbody>\n",
       "</table>\n",
       "</div>"
      ],
      "text/plain": [
       "      dteday  season    yr mnth  holiday weekday  workingday weathersit  \\\n",
       "0 2018-01-01  spring  2018  Jan        0     Sat           0     Cloudy   \n",
       "1 2018-02-01  spring  2018  Jan        0     Sun           0     Cloudy   \n",
       "2 2018-03-01  spring  2018  Jan        0     Mon           1      Clear   \n",
       "3 2018-04-01  spring  2018  Jan        0     Tue           1      Clear   \n",
       "4 2018-05-01  spring  2018  Jan        0     Wed           1      Clear   \n",
       "\n",
       "        temp     atemp      hum  windspeed   cnt  \n",
       "0  14.110847  18.18125  80.5833  10.749882   985  \n",
       "1  14.902598  17.68695  69.6087  16.652113   801  \n",
       "2   8.050924   9.47025  43.7273  16.636703  1349  \n",
       "3   8.200000  10.60610  59.0435  10.739832  1562  \n",
       "4   9.305237  11.46350  43.6957  12.522300  1600  "
      ]
     },
     "execution_count": 35,
     "metadata": {},
     "output_type": "execute_result"
    }
   ],
   "source": [
    "data.head()"
   ]
  },
  {
   "cell_type": "markdown",
   "id": "8d7e9542",
   "metadata": {},
   "source": [
    "### Checking Duplicate Rows"
   ]
  },
  {
   "cell_type": "code",
   "execution_count": 36,
   "id": "5fea71d1",
   "metadata": {},
   "outputs": [
    {
     "data": {
      "text/plain": [
       "0"
      ]
     },
     "execution_count": 36,
     "metadata": {},
     "output_type": "execute_result"
    }
   ],
   "source": [
    "data.duplicated().sum()"
   ]
  },
  {
   "cell_type": "markdown",
   "id": "7c622c8c",
   "metadata": {},
   "source": [
    "## EXPLORATORY DATA ANALYSIS"
   ]
  },
  {
   "cell_type": "markdown",
   "id": "1b702b41",
   "metadata": {},
   "source": [
    "### Univariate Analysis"
   ]
  },
  {
   "cell_type": "markdown",
   "id": "c1dbafc3",
   "metadata": {},
   "source": [
    "### 1. Year Column"
   ]
  },
  {
   "cell_type": "code",
   "execution_count": 37,
   "id": "6f6769e4",
   "metadata": {},
   "outputs": [],
   "source": [
    "year_count = data.groupby(\"yr\")[\"cnt\"].sum().reset_index().sort_values(by = \"cnt\" , ascending = False)"
   ]
  },
  {
   "cell_type": "code",
   "execution_count": 38,
   "id": "54c570c3",
   "metadata": {},
   "outputs": [
    {
     "data": {
      "image/png": "[encoded data removed]",
      "text/plain": [
       "<Figure size 600x400 with 1 Axes>"
      ]
     },
     "metadata": {
      "needs_background": "light"
     },
     "output_type": "display_data"
    }
   ],
   "source": [
    "plt.figure(figsize = (6,4) , dpi = 100)\n",
    "\n",
    "sns.barplot(data = year_count, x = \"yr\" , y = \"cnt\", edgecolor = \"black\", palette = \"summer\" );"
   ]
  },
  {
   "cell_type": "code",
   "execution_count": 39,
   "id": "f7abd5a5",
   "metadata": {},
   "outputs": [
    {
     "data": {
      "text/html": [
       "<div>\n",
       "<style scoped>\n",
       "    .dataframe tbody tr th:only-of-type {\n",
       "        vertical-align: middle;\n",
       "    }\n",
       "\n",
       "    .dataframe tbody tr th {\n",
       "        vertical-align: top;\n",
       "    }\n",
       "\n",
       "    .dataframe thead th {\n",
       "        text-align: right;\n",
       "    }\n",
       "</style>\n",
       "<table border=\"1\" class=\"dataframe\">\n",
       "  <thead>\n",
       "    <tr style=\"text-align: right;\">\n",
       "      <th></th>\n",
       "      <th>yr</th>\n",
       "      <th>cnt</th>\n",
       "    </tr>\n",
       "  </thead>\n",
       "  <tbody>\n",
       "    <tr>\n",
       "      <th>1</th>\n",
       "      <td>2019</td>\n",
       "      <td>2047742</td>\n",
       "    </tr>\n",
       "    <tr>\n",
       "      <th>0</th>\n",
       "      <td>2018</td>\n",
       "      <td>1243103</td>\n",
       "    </tr>\n",
       "  </tbody>\n",
       "</table>\n",
       "</div>"
      ],
      "text/plain": [
       "     yr      cnt\n",
       "1  2019  2047742\n",
       "0  2018  1243103"
      ]
     },
     "execution_count": 39,
     "metadata": {},
     "output_type": "execute_result"
    }
   ],
   "source": [
    "year_count"
   ]
  },
  {
   "cell_type": "code",
   "execution_count": 40,
   "id": "116c058e",
   "metadata": {},
   "outputs": [
    {
     "data": {
      "text/plain": [
       "64.73"
      ]
     },
     "execution_count": 40,
     "metadata": {},
     "output_type": "execute_result"
    }
   ],
   "source": [
    "np.round(100 * ( year_count[\"cnt\"][1] - year_count[\"cnt\"][0] ) / year_count[\"cnt\"][0] , 2)"
   ]
  },
  {
   "cell_type": "markdown",
   "id": "5c6ee9cf",
   "metadata": {},
   "source": [
    "### Observation:\n",
    "\n",
    "It can be observed that the no. of bikes rented in 2019 increased by 65% than the year 2018 which is a good sign for any business on YOY basis."
   ]
  },
  {
   "cell_type": "code",
   "execution_count": null,
   "id": "8efa3155",
   "metadata": {},
   "outputs": [],
   "source": []
  },
  {
   "cell_type": "markdown",
   "id": "36225c6b",
   "metadata": {},
   "source": [
    "### 2. Weekday Column"
   ]
  },
  {
   "cell_type": "code",
   "execution_count": 41,
   "id": "f330016f",
   "metadata": {},
   "outputs": [],
   "source": [
    "weekday_count = data.groupby(\"weekday\")[\"cnt\"].sum().reset_index().sort_values(by = \"cnt\" , ascending = False)"
   ]
  },
  {
   "cell_type": "code",
   "execution_count": 42,
   "id": "b06bc63e",
   "metadata": {},
   "outputs": [
    {
     "data": {
      "text/html": [
       "<div>\n",
       "<style scoped>\n",
       "    .dataframe tbody tr th:only-of-type {\n",
       "        vertical-align: middle;\n",
       "    }\n",
       "\n",
       "    .dataframe tbody tr th {\n",
       "        vertical-align: top;\n",
       "    }\n",
       "\n",
       "    .dataframe thead th {\n",
       "        text-align: right;\n",
       "    }\n",
       "</style>\n",
       "<table border=\"1\" class=\"dataframe\">\n",
       "  <thead>\n",
       "    <tr style=\"text-align: right;\">\n",
       "      <th></th>\n",
       "      <th>weekday</th>\n",
       "      <th>cnt</th>\n",
       "    </tr>\n",
       "  </thead>\n",
       "  <tbody>\n",
       "    <tr>\n",
       "      <th>0</th>\n",
       "      <td>Fri</td>\n",
       "      <td>487790</td>\n",
       "    </tr>\n",
       "    <tr>\n",
       "      <th>4</th>\n",
       "      <td>Thu</td>\n",
       "      <td>485395</td>\n",
       "    </tr>\n",
       "    <tr>\n",
       "      <th>2</th>\n",
       "      <td>Sat</td>\n",
       "      <td>477807</td>\n",
       "    </tr>\n",
       "    <tr>\n",
       "      <th>6</th>\n",
       "      <td>Wed</td>\n",
       "      <td>471214</td>\n",
       "    </tr>\n",
       "    <tr>\n",
       "      <th>5</th>\n",
       "      <td>Tue</td>\n",
       "      <td>469109</td>\n",
       "    </tr>\n",
       "    <tr>\n",
       "      <th>1</th>\n",
       "      <td>Mon</td>\n",
       "      <td>455503</td>\n",
       "    </tr>\n",
       "    <tr>\n",
       "      <th>3</th>\n",
       "      <td>Sun</td>\n",
       "      <td>444027</td>\n",
       "    </tr>\n",
       "  </tbody>\n",
       "</table>\n",
       "</div>"
      ],
      "text/plain": [
       "  weekday     cnt\n",
       "0     Fri  487790\n",
       "4     Thu  485395\n",
       "2     Sat  477807\n",
       "6     Wed  471214\n",
       "5     Tue  469109\n",
       "1     Mon  455503\n",
       "3     Sun  444027"
      ]
     },
     "execution_count": 42,
     "metadata": {},
     "output_type": "execute_result"
    }
   ],
   "source": [
    "weekday_count"
   ]
  },
  {
   "cell_type": "code",
   "execution_count": 43,
   "id": "e1d829e6",
   "metadata": {},
   "outputs": [
    {
     "data": {
      "image/png": "[encoded data removed]",
      "text/plain": [
       "<Figure size 800x400 with 1 Axes>"
      ]
     },
     "metadata": {
      "needs_background": "light"
     },
     "output_type": "display_data"
    }
   ],
   "source": [
    "plt.figure(figsize = (8,4) , dpi = 100)\n",
    "\n",
    "sns.barplot(data = weekday_count, x = \"weekday\" , y = \"cnt\", edgecolor = \"black\", palette = \"twilight_shifted\");"
   ]
  },
  {
   "cell_type": "markdown",
   "id": "7028fa92",
   "metadata": {},
   "source": [
    "### Observation:\n",
    "\n",
    "Most bikes were rented on Friday"
   ]
  },
  {
   "cell_type": "code",
   "execution_count": null,
   "id": "ad3d6dd2",
   "metadata": {},
   "outputs": [],
   "source": []
  },
  {
   "cell_type": "markdown",
   "id": "164dbdcd",
   "metadata": {},
   "source": [
    "### 3. Workday Column"
   ]
  },
  {
   "cell_type": "code",
   "execution_count": 44,
   "id": "9c79197a",
   "metadata": {},
   "outputs": [],
   "source": [
    "workday_count = data.groupby(\"workingday\")[\"cnt\"].sum().reset_index().sort_values(by = \"cnt\" , ascending = False)"
   ]
  },
  {
   "cell_type": "code",
   "execution_count": 45,
   "id": "581d464e",
   "metadata": {},
   "outputs": [
    {
     "data": {
      "text/html": [
       "<div>\n",
       "<style scoped>\n",
       "    .dataframe tbody tr th:only-of-type {\n",
       "        vertical-align: middle;\n",
       "    }\n",
       "\n",
       "    .dataframe tbody tr th {\n",
       "        vertical-align: top;\n",
       "    }\n",
       "\n",
       "    .dataframe thead th {\n",
       "        text-align: right;\n",
       "    }\n",
       "</style>\n",
       "<table border=\"1\" class=\"dataframe\">\n",
       "  <thead>\n",
       "    <tr style=\"text-align: right;\">\n",
       "      <th></th>\n",
       "      <th>workingday</th>\n",
       "      <th>cnt</th>\n",
       "    </tr>\n",
       "  </thead>\n",
       "  <tbody>\n",
       "    <tr>\n",
       "      <th>1</th>\n",
       "      <td>1</td>\n",
       "      <td>2290576</td>\n",
       "    </tr>\n",
       "    <tr>\n",
       "      <th>0</th>\n",
       "      <td>0</td>\n",
       "      <td>1000269</td>\n",
       "    </tr>\n",
       "  </tbody>\n",
       "</table>\n",
       "</div>"
      ],
      "text/plain": [
       "   workingday      cnt\n",
       "1           1  2290576\n",
       "0           0  1000269"
      ]
     },
     "execution_count": 45,
     "metadata": {},
     "output_type": "execute_result"
    }
   ],
   "source": [
    "workday_count"
   ]
  },
  {
   "cell_type": "code",
   "execution_count": 46,
   "id": "d04220c4",
   "metadata": {},
   "outputs": [
    {
     "data": {
      "image/png": "[encoded data removed]",
      "text/plain": [
       "<Figure size 600x400 with 1 Axes>"
      ]
     },
     "metadata": {
      "needs_background": "light"
     },
     "output_type": "display_data"
    }
   ],
   "source": [
    "plt.figure(figsize = (6,4) , dpi = 100)\n",
    "\n",
    "sns.barplot(data = workday_count, x = \"workingday\" , y = \"cnt\", edgecolor = \"black\", palette = \"autumn\" );"
   ]
  },
  {
   "cell_type": "markdown",
   "id": "b8ee086a",
   "metadata": {},
   "source": [
    "### Observation:\n",
    "\n",
    "Most bikes were rented on Working days. This tells us that most people must be renting bikes to commute to their work place. And hence Th bike renting company BoomBikes makes a most of its business (more than twice) on workdays and not on holidays."
   ]
  },
  {
   "cell_type": "code",
   "execution_count": null,
   "id": "a0c1f314",
   "metadata": {},
   "outputs": [],
   "source": []
  },
  {
   "cell_type": "markdown",
   "id": "af5fa3bb",
   "metadata": {},
   "source": [
    "### 4. Weathersit Column"
   ]
  },
  {
   "cell_type": "code",
   "execution_count": 47,
   "id": "ebfad338",
   "metadata": {},
   "outputs": [],
   "source": [
    "weathersit_count = data.groupby(\"weathersit\")[\"cnt\"].sum().reset_index().sort_values(by = \"cnt\" , ascending = False)"
   ]
  },
  {
   "cell_type": "code",
   "execution_count": 48,
   "id": "e68966df",
   "metadata": {
    "scrolled": true
   },
   "outputs": [
    {
     "data": {
      "text/html": [
       "<div>\n",
       "<style scoped>\n",
       "    .dataframe tbody tr th:only-of-type {\n",
       "        vertical-align: middle;\n",
       "    }\n",
       "\n",
       "    .dataframe tbody tr th {\n",
       "        vertical-align: top;\n",
       "    }\n",
       "\n",
       "    .dataframe thead th {\n",
       "        text-align: right;\n",
       "    }\n",
       "</style>\n",
       "<table border=\"1\" class=\"dataframe\">\n",
       "  <thead>\n",
       "    <tr style=\"text-align: right;\">\n",
       "      <th></th>\n",
       "      <th>weathersit</th>\n",
       "      <th>cnt</th>\n",
       "    </tr>\n",
       "  </thead>\n",
       "  <tbody>\n",
       "    <tr>\n",
       "      <th>0</th>\n",
       "      <td>Clear</td>\n",
       "      <td>2257952</td>\n",
       "    </tr>\n",
       "    <tr>\n",
       "      <th>1</th>\n",
       "      <td>Cloudy</td>\n",
       "      <td>995024</td>\n",
       "    </tr>\n",
       "    <tr>\n",
       "      <th>2</th>\n",
       "      <td>Light Rain</td>\n",
       "      <td>37869</td>\n",
       "    </tr>\n",
       "  </tbody>\n",
       "</table>\n",
       "</div>"
      ],
      "text/plain": [
       "   weathersit      cnt\n",
       "0       Clear  2257952\n",
       "1      Cloudy   995024\n",
       "2  Light Rain    37869"
      ]
     },
     "execution_count": 48,
     "metadata": {},
     "output_type": "execute_result"
    }
   ],
   "source": [
    "weathersit_count"
   ]
  },
  {
   "cell_type": "code",
   "execution_count": 49,
   "id": "7c7b1165",
   "metadata": {},
   "outputs": [
    {
     "data": {
      "image/png": "[encoded data removed]",
      "text/plain": [
       "<Figure size 600x400 with 1 Axes>"
      ]
     },
     "metadata": {
      "needs_background": "light"
     },
     "output_type": "display_data"
    }
   ],
   "source": [
    "plt.figure(figsize = (6,4) , dpi = 100)\n",
    "\n",
    "sns.barplot(data = weathersit_count, x = \"weathersit\" , y = \"cnt\", edgecolor = \"black\", palette = \"hot\" );"
   ]
  },
  {
   "cell_type": "markdown",
   "id": "21e9227f",
   "metadata": {},
   "source": [
    "### Observation:\n",
    "\n",
    "Clearly, from the above plot it is evident that weather situation factor contributes a lot in bike renting business. There is negligible amount of bikes rented during rain than compared to when the weather is clear."
   ]
  },
  {
   "cell_type": "markdown",
   "id": "15d10203",
   "metadata": {},
   "source": [
    "### 5. Month Column"
   ]
  },
  {
   "cell_type": "code",
   "execution_count": 50,
   "id": "22519080",
   "metadata": {},
   "outputs": [],
   "source": [
    "month_count = data.groupby(\"mnth\")[\"cnt\"].sum().reset_index().sort_values(by = \"cnt\" , ascending = False)"
   ]
  },
  {
   "cell_type": "code",
   "execution_count": 51,
   "id": "f4121a34",
   "metadata": {},
   "outputs": [
    {
     "data": {
      "text/html": [
       "<div>\n",
       "<style scoped>\n",
       "    .dataframe tbody tr th:only-of-type {\n",
       "        vertical-align: middle;\n",
       "    }\n",
       "\n",
       "    .dataframe tbody tr th {\n",
       "        vertical-align: top;\n",
       "    }\n",
       "\n",
       "    .dataframe thead th {\n",
       "        text-align: right;\n",
       "    }\n",
       "</style>\n",
       "<table border=\"1\" class=\"dataframe\">\n",
       "  <thead>\n",
       "    <tr style=\"text-align: right;\">\n",
       "      <th></th>\n",
       "      <th>mnth</th>\n",
       "      <th>cnt</th>\n",
       "    </tr>\n",
       "  </thead>\n",
       "  <tbody>\n",
       "    <tr>\n",
       "      <th>1</th>\n",
       "      <td>Aug</td>\n",
       "      <td>351194</td>\n",
       "    </tr>\n",
       "    <tr>\n",
       "      <th>6</th>\n",
       "      <td>Jun</td>\n",
       "      <td>346342</td>\n",
       "    </tr>\n",
       "    <tr>\n",
       "      <th>11</th>\n",
       "      <td>Sep</td>\n",
       "      <td>345991</td>\n",
       "    </tr>\n",
       "    <tr>\n",
       "      <th>5</th>\n",
       "      <td>Jul</td>\n",
       "      <td>344948</td>\n",
       "    </tr>\n",
       "    <tr>\n",
       "      <th>8</th>\n",
       "      <td>May</td>\n",
       "      <td>331686</td>\n",
       "    </tr>\n",
       "    <tr>\n",
       "      <th>10</th>\n",
       "      <td>Oct</td>\n",
       "      <td>322352</td>\n",
       "    </tr>\n",
       "    <tr>\n",
       "      <th>0</th>\n",
       "      <td>Apr</td>\n",
       "      <td>269094</td>\n",
       "    </tr>\n",
       "    <tr>\n",
       "      <th>9</th>\n",
       "      <td>Nov</td>\n",
       "      <td>254831</td>\n",
       "    </tr>\n",
       "    <tr>\n",
       "      <th>7</th>\n",
       "      <td>Mar</td>\n",
       "      <td>228920</td>\n",
       "    </tr>\n",
       "    <tr>\n",
       "      <th>2</th>\n",
       "      <td>Dec</td>\n",
       "      <td>211036</td>\n",
       "    </tr>\n",
       "    <tr>\n",
       "      <th>3</th>\n",
       "      <td>Feb</td>\n",
       "      <td>149518</td>\n",
       "    </tr>\n",
       "    <tr>\n",
       "      <th>4</th>\n",
       "      <td>Jan</td>\n",
       "      <td>134933</td>\n",
       "    </tr>\n",
       "  </tbody>\n",
       "</table>\n",
       "</div>"
      ],
      "text/plain": [
       "    mnth     cnt\n",
       "1    Aug  351194\n",
       "6    Jun  346342\n",
       "11   Sep  345991\n",
       "5    Jul  344948\n",
       "8    May  331686\n",
       "10   Oct  322352\n",
       "0    Apr  269094\n",
       "9    Nov  254831\n",
       "7    Mar  228920\n",
       "2    Dec  211036\n",
       "3    Feb  149518\n",
       "4    Jan  134933"
      ]
     },
     "execution_count": 51,
     "metadata": {},
     "output_type": "execute_result"
    }
   ],
   "source": [
    "month_count"
   ]
  },
  {
   "cell_type": "code",
   "execution_count": 52,
   "id": "38e3203b",
   "metadata": {},
   "outputs": [
    {
     "data": {
      "image/png": "[encoded data removed]",
      "text/plain": [
       "<Figure size 1000x400 with 1 Axes>"
      ]
     },
     "metadata": {
      "needs_background": "light"
     },
     "output_type": "display_data"
    }
   ],
   "source": [
    "plt.figure(figsize = (10,4) , dpi = 100)\n",
    "\n",
    "sns.barplot(data = month_count, x = \"mnth\" , y = \"cnt\", edgecolor = \"black\", palette = \"hot\" );"
   ]
  },
  {
   "cell_type": "markdown",
   "id": "8ed9cc42",
   "metadata": {},
   "source": [
    "### Observation:\n",
    "\n",
    "Most Bikes were rented in the month of August and June. "
   ]
  },
  {
   "cell_type": "code",
   "execution_count": null,
   "id": "a19c5d8b",
   "metadata": {},
   "outputs": [],
   "source": []
  },
  {
   "cell_type": "markdown",
   "id": "26467780",
   "metadata": {},
   "source": [
    "### BIVARIATE ANALYSIS"
   ]
  },
  {
   "cell_type": "markdown",
   "id": "5a31b306",
   "metadata": {},
   "source": [
    "### 1. Season Vs Temperature"
   ]
  },
  {
   "cell_type": "code",
   "execution_count": 53,
   "id": "21a32262",
   "metadata": {},
   "outputs": [],
   "source": [
    "season_count = data.groupby(\"season\")[\"cnt\"].sum().reset_index()"
   ]
  },
  {
   "cell_type": "code",
   "execution_count": 54,
   "id": "78520e78",
   "metadata": {},
   "outputs": [
    {
     "data": {
      "text/html": [
       "<div>\n",
       "<style scoped>\n",
       "    .dataframe tbody tr th:only-of-type {\n",
       "        vertical-align: middle;\n",
       "    }\n",
       "\n",
       "    .dataframe tbody tr th {\n",
       "        vertical-align: top;\n",
       "    }\n",
       "\n",
       "    .dataframe thead th {\n",
       "        text-align: right;\n",
       "    }\n",
       "</style>\n",
       "<table border=\"1\" class=\"dataframe\">\n",
       "  <thead>\n",
       "    <tr style=\"text-align: right;\">\n",
       "      <th></th>\n",
       "      <th>season</th>\n",
       "      <th>cnt</th>\n",
       "    </tr>\n",
       "  </thead>\n",
       "  <tbody>\n",
       "    <tr>\n",
       "      <th>0</th>\n",
       "      <td>fall</td>\n",
       "      <td>1061129</td>\n",
       "    </tr>\n",
       "    <tr>\n",
       "      <th>1</th>\n",
       "      <td>spring</td>\n",
       "      <td>469514</td>\n",
       "    </tr>\n",
       "    <tr>\n",
       "      <th>2</th>\n",
       "      <td>summer</td>\n",
       "      <td>918589</td>\n",
       "    </tr>\n",
       "    <tr>\n",
       "      <th>3</th>\n",
       "      <td>winter</td>\n",
       "      <td>841613</td>\n",
       "    </tr>\n",
       "  </tbody>\n",
       "</table>\n",
       "</div>"
      ],
      "text/plain": [
       "   season      cnt\n",
       "0    fall  1061129\n",
       "1  spring   469514\n",
       "2  summer   918589\n",
       "3  winter   841613"
      ]
     },
     "execution_count": 54,
     "metadata": {},
     "output_type": "execute_result"
    }
   ],
   "source": [
    "season_count"
   ]
  },
  {
   "cell_type": "code",
   "execution_count": 55,
   "id": "921e3d5f",
   "metadata": {},
   "outputs": [
    {
     "data": {
      "image/png": "[encoded data removed]",
      "text/plain": [
       "<Figure size 800x400 with 1 Axes>"
      ]
     },
     "metadata": {
      "needs_background": "light"
     },
     "output_type": "display_data"
    }
   ],
   "source": [
    "plt.figure(figsize = (8,4) , dpi = 100)\n",
    "\n",
    "sns.barplot(data = season_count.sort_values(by = \"cnt\" , ascending = False), x = \"season\" , y = \"cnt\", edgecolor = \"black\" );"
   ]
  },
  {
   "cell_type": "code",
   "execution_count": 56,
   "id": "2e6aa16b",
   "metadata": {},
   "outputs": [],
   "source": [
    "season_avg_temp = data.groupby(\"season\")[\"temp\"].mean().reset_index().sort_values(by = \"temp\" , ascending = False)"
   ]
  },
  {
   "cell_type": "code",
   "execution_count": 57,
   "id": "03b2cc5b",
   "metadata": {},
   "outputs": [
    {
     "data": {
      "text/html": [
       "<div>\n",
       "<style scoped>\n",
       "    .dataframe tbody tr th:only-of-type {\n",
       "        vertical-align: middle;\n",
       "    }\n",
       "\n",
       "    .dataframe tbody tr th {\n",
       "        vertical-align: top;\n",
       "    }\n",
       "\n",
       "    .dataframe thead th {\n",
       "        text-align: right;\n",
       "    }\n",
       "</style>\n",
       "<table border=\"1\" class=\"dataframe\">\n",
       "  <thead>\n",
       "    <tr style=\"text-align: right;\">\n",
       "      <th></th>\n",
       "      <th>season</th>\n",
       "      <th>temp</th>\n",
       "    </tr>\n",
       "  </thead>\n",
       "  <tbody>\n",
       "    <tr>\n",
       "      <th>0</th>\n",
       "      <td>fall</td>\n",
       "      <td>28.958682</td>\n",
       "    </tr>\n",
       "    <tr>\n",
       "      <th>2</th>\n",
       "      <td>summer</td>\n",
       "      <td>22.320611</td>\n",
       "    </tr>\n",
       "    <tr>\n",
       "      <th>3</th>\n",
       "      <td>winter</td>\n",
       "      <td>17.339148</td>\n",
       "    </tr>\n",
       "    <tr>\n",
       "      <th>1</th>\n",
       "      <td>spring</td>\n",
       "      <td>12.197035</td>\n",
       "    </tr>\n",
       "  </tbody>\n",
       "</table>\n",
       "</div>"
      ],
      "text/plain": [
       "   season       temp\n",
       "0    fall  28.958682\n",
       "2  summer  22.320611\n",
       "3  winter  17.339148\n",
       "1  spring  12.197035"
      ]
     },
     "execution_count": 57,
     "metadata": {},
     "output_type": "execute_result"
    }
   ],
   "source": [
    "season_avg_temp"
   ]
  },
  {
   "cell_type": "code",
   "execution_count": 58,
   "id": "1c002423",
   "metadata": {},
   "outputs": [
    {
     "data": {
      "image/png": "[encoded data removed]",
      "text/plain": [
       "<Figure size 800x400 with 1 Axes>"
      ]
     },
     "metadata": {
      "needs_background": "light"
     },
     "output_type": "display_data"
    }
   ],
   "source": [
    "plt.figure(figsize = (8,4) , dpi = 100)\n",
    "\n",
    "sns.barplot(data = season_avg_temp, x = \"season\" , y = \"temp\", edgecolor = \"black\", palette = \"Set1\" );"
   ]
  },
  {
   "cell_type": "code",
   "execution_count": null,
   "id": "5a8f9624",
   "metadata": {},
   "outputs": [],
   "source": []
  },
  {
   "cell_type": "markdown",
   "id": "21abe104",
   "metadata": {},
   "source": [
    "### 2. Season Vs Windspeed "
   ]
  },
  {
   "cell_type": "code",
   "execution_count": 59,
   "id": "e9b876f5",
   "metadata": {},
   "outputs": [],
   "source": [
    "season_avg_wind = data.groupby(\"season\")[\"windspeed\"].mean().reset_index().sort_values(by = \"windspeed\" , ascending = False)"
   ]
  },
  {
   "cell_type": "code",
   "execution_count": 60,
   "id": "0aa1532c",
   "metadata": {},
   "outputs": [
    {
     "data": {
      "text/html": [
       "<div>\n",
       "<style scoped>\n",
       "    .dataframe tbody tr th:only-of-type {\n",
       "        vertical-align: middle;\n",
       "    }\n",
       "\n",
       "    .dataframe tbody tr th {\n",
       "        vertical-align: top;\n",
       "    }\n",
       "\n",
       "    .dataframe thead th {\n",
       "        text-align: right;\n",
       "    }\n",
       "</style>\n",
       "<table border=\"1\" class=\"dataframe\">\n",
       "  <thead>\n",
       "    <tr style=\"text-align: right;\">\n",
       "      <th></th>\n",
       "      <th>season</th>\n",
       "      <th>windspeed</th>\n",
       "    </tr>\n",
       "  </thead>\n",
       "  <tbody>\n",
       "    <tr>\n",
       "      <th>1</th>\n",
       "      <td>spring</td>\n",
       "      <td>14.387168</td>\n",
       "    </tr>\n",
       "    <tr>\n",
       "      <th>2</th>\n",
       "      <td>summer</td>\n",
       "      <td>13.634978</td>\n",
       "    </tr>\n",
       "    <tr>\n",
       "      <th>0</th>\n",
       "      <td>fall</td>\n",
       "      <td>11.530366</td>\n",
       "    </tr>\n",
       "    <tr>\n",
       "      <th>3</th>\n",
       "      <td>winter</td>\n",
       "      <td>11.523637</td>\n",
       "    </tr>\n",
       "  </tbody>\n",
       "</table>\n",
       "</div>"
      ],
      "text/plain": [
       "   season  windspeed\n",
       "1  spring  14.387168\n",
       "2  summer  13.634978\n",
       "0    fall  11.530366\n",
       "3  winter  11.523637"
      ]
     },
     "execution_count": 60,
     "metadata": {},
     "output_type": "execute_result"
    }
   ],
   "source": [
    "season_avg_wind"
   ]
  },
  {
   "cell_type": "code",
   "execution_count": 61,
   "id": "f9bce22c",
   "metadata": {},
   "outputs": [
    {
     "data": {
      "image/png": "[encoded data removed]",
      "text/plain": [
       "<Figure size 800x400 with 1 Axes>"
      ]
     },
     "metadata": {
      "needs_background": "light"
     },
     "output_type": "display_data"
    }
   ],
   "source": [
    "plt.figure(figsize = (8,4) , dpi = 100)\n",
    "\n",
    "sns.barplot(data = season_avg_wind, x = \"season\" , y = \"windspeed\", edgecolor = \"black\", palette = \"ocean\" );"
   ]
  },
  {
   "cell_type": "markdown",
   "id": "b8a1c56e",
   "metadata": {},
   "source": [
    "### Observation:\n",
    "\n",
    "From the above bar plots it appears that more bikes were rented during the fall and lesser bikes were rented during the Spring. And after investigating the climatic conditions one of the reasons for this could be the average temperature is very low in spring and also the average wind speed is very high in Spring than the Fal."
   ]
  },
  {
   "cell_type": "code",
   "execution_count": null,
   "id": "aae21b06",
   "metadata": {},
   "outputs": [],
   "source": []
  },
  {
   "cell_type": "markdown",
   "id": "f00076d1",
   "metadata": {},
   "source": [
    "### 3. Bikes Rented On Weekdays Vs Holidays"
   ]
  },
  {
   "cell_type": "code",
   "execution_count": 62,
   "id": "b2f69de1",
   "metadata": {},
   "outputs": [
    {
     "data": {
      "image/png": "[encoded data removed]",
      "text/plain": [
       "<Figure size 800x400 with 1 Axes>"
      ]
     },
     "metadata": {
      "needs_background": "light"
     },
     "output_type": "display_data"
    }
   ],
   "source": [
    "plt.figure(figsize = (8,4) , dpi = 100)\n",
    "\n",
    "sns.barplot(data = data, x = \"weekday\" , y = \"cnt\", edgecolor = \"black\", palette = \"winter\", hue = \"workingday\" )\n",
    "plt.legend(loc = (1.05, 0.8));"
   ]
  },
  {
   "cell_type": "markdown",
   "id": "9dbeb2cc",
   "metadata": {},
   "source": [
    "### Observation:\n",
    "\n",
    "The Saturday and Sunday being non working days the count of bikes rented on these days is almost negligible for these days compared to other days. But surprisingly there is an interesting observation here, that whenever Wednesday is holiday or non working day the more number of bikes are being rented compared to when Wednesday is a working day."
   ]
  },
  {
   "cell_type": "code",
   "execution_count": null,
   "id": "49bc7dec",
   "metadata": {},
   "outputs": [],
   "source": []
  },
  {
   "cell_type": "markdown",
   "id": "71591084",
   "metadata": {},
   "source": [
    "## ENCODING OF CATEGORICAL VARIABLES"
   ]
  },
  {
   "cell_type": "code",
   "execution_count": 63,
   "id": "b99d6842",
   "metadata": {},
   "outputs": [
    {
     "data": {
      "text/html": [
       "<div>\n",
       "<style scoped>\n",
       "    .dataframe tbody tr th:only-of-type {\n",
       "        vertical-align: middle;\n",
       "    }\n",
       "\n",
       "    .dataframe tbody tr th {\n",
       "        vertical-align: top;\n",
       "    }\n",
       "\n",
       "    .dataframe thead th {\n",
       "        text-align: right;\n",
       "    }\n",
       "</style>\n",
       "<table border=\"1\" class=\"dataframe\">\n",
       "  <thead>\n",
       "    <tr style=\"text-align: right;\">\n",
       "      <th></th>\n",
       "      <th>dteday</th>\n",
       "      <th>season</th>\n",
       "      <th>yr</th>\n",
       "      <th>mnth</th>\n",
       "      <th>holiday</th>\n",
       "      <th>weekday</th>\n",
       "      <th>workingday</th>\n",
       "      <th>weathersit</th>\n",
       "      <th>temp</th>\n",
       "      <th>atemp</th>\n",
       "      <th>hum</th>\n",
       "      <th>windspeed</th>\n",
       "      <th>cnt</th>\n",
       "    </tr>\n",
       "  </thead>\n",
       "  <tbody>\n",
       "    <tr>\n",
       "      <th>0</th>\n",
       "      <td>2018-01-01</td>\n",
       "      <td>spring</td>\n",
       "      <td>2018</td>\n",
       "      <td>Jan</td>\n",
       "      <td>0</td>\n",
       "      <td>Sat</td>\n",
       "      <td>0</td>\n",
       "      <td>Cloudy</td>\n",
       "      <td>14.110847</td>\n",
       "      <td>18.18125</td>\n",
       "      <td>80.5833</td>\n",
       "      <td>10.749882</td>\n",
       "      <td>985</td>\n",
       "    </tr>\n",
       "    <tr>\n",
       "      <th>1</th>\n",
       "      <td>2018-02-01</td>\n",
       "      <td>spring</td>\n",
       "      <td>2018</td>\n",
       "      <td>Jan</td>\n",
       "      <td>0</td>\n",
       "      <td>Sun</td>\n",
       "      <td>0</td>\n",
       "      <td>Cloudy</td>\n",
       "      <td>14.902598</td>\n",
       "      <td>17.68695</td>\n",
       "      <td>69.6087</td>\n",
       "      <td>16.652113</td>\n",
       "      <td>801</td>\n",
       "    </tr>\n",
       "    <tr>\n",
       "      <th>2</th>\n",
       "      <td>2018-03-01</td>\n",
       "      <td>spring</td>\n",
       "      <td>2018</td>\n",
       "      <td>Jan</td>\n",
       "      <td>0</td>\n",
       "      <td>Mon</td>\n",
       "      <td>1</td>\n",
       "      <td>Clear</td>\n",
       "      <td>8.050924</td>\n",
       "      <td>9.47025</td>\n",
       "      <td>43.7273</td>\n",
       "      <td>16.636703</td>\n",
       "      <td>1349</td>\n",
       "    </tr>\n",
       "    <tr>\n",
       "      <th>3</th>\n",
       "      <td>2018-04-01</td>\n",
       "      <td>spring</td>\n",
       "      <td>2018</td>\n",
       "      <td>Jan</td>\n",
       "      <td>0</td>\n",
       "      <td>Tue</td>\n",
       "      <td>1</td>\n",
       "      <td>Clear</td>\n",
       "      <td>8.200000</td>\n",
       "      <td>10.60610</td>\n",
       "      <td>59.0435</td>\n",
       "      <td>10.739832</td>\n",
       "      <td>1562</td>\n",
       "    </tr>\n",
       "    <tr>\n",
       "      <th>4</th>\n",
       "      <td>2018-05-01</td>\n",
       "      <td>spring</td>\n",
       "      <td>2018</td>\n",
       "      <td>Jan</td>\n",
       "      <td>0</td>\n",
       "      <td>Wed</td>\n",
       "      <td>1</td>\n",
       "      <td>Clear</td>\n",
       "      <td>9.305237</td>\n",
       "      <td>11.46350</td>\n",
       "      <td>43.6957</td>\n",
       "      <td>12.522300</td>\n",
       "      <td>1600</td>\n",
       "    </tr>\n",
       "  </tbody>\n",
       "</table>\n",
       "</div>"
      ],
      "text/plain": [
       "      dteday  season    yr mnth  holiday weekday  workingday weathersit  \\\n",
       "0 2018-01-01  spring  2018  Jan        0     Sat           0     Cloudy   \n",
       "1 2018-02-01  spring  2018  Jan        0     Sun           0     Cloudy   \n",
       "2 2018-03-01  spring  2018  Jan        0     Mon           1      Clear   \n",
       "3 2018-04-01  spring  2018  Jan        0     Tue           1      Clear   \n",
       "4 2018-05-01  spring  2018  Jan        0     Wed           1      Clear   \n",
       "\n",
       "        temp     atemp      hum  windspeed   cnt  \n",
       "0  14.110847  18.18125  80.5833  10.749882   985  \n",
       "1  14.902598  17.68695  69.6087  16.652113   801  \n",
       "2   8.050924   9.47025  43.7273  16.636703  1349  \n",
       "3   8.200000  10.60610  59.0435  10.739832  1562  \n",
       "4   9.305237  11.46350  43.6957  12.522300  1600  "
      ]
     },
     "execution_count": 63,
     "metadata": {},
     "output_type": "execute_result"
    }
   ],
   "source": [
    "data.head()"
   ]
  },
  {
   "cell_type": "code",
   "execution_count": 64,
   "id": "2e8c2c0d",
   "metadata": {},
   "outputs": [],
   "source": [
    "data = data.drop([\"dteday\"] , axis = 1)"
   ]
  },
  {
   "cell_type": "code",
   "execution_count": 65,
   "id": "d900d4a6",
   "metadata": {},
   "outputs": [
    {
     "data": {
      "text/plain": [
       "(730, 12)"
      ]
     },
     "execution_count": 65,
     "metadata": {},
     "output_type": "execute_result"
    }
   ],
   "source": [
    "data.shape"
   ]
  },
  {
   "cell_type": "code",
   "execution_count": 66,
   "id": "4d24dc07",
   "metadata": {},
   "outputs": [],
   "source": [
    "dummy_data = pd.get_dummies(data, drop_first= True)"
   ]
  },
  {
   "cell_type": "code",
   "execution_count": 67,
   "id": "c0e2a9bb",
   "metadata": {},
   "outputs": [
    {
     "data": {
      "text/plain": [
       "(730, 30)"
      ]
     },
     "execution_count": 67,
     "metadata": {},
     "output_type": "execute_result"
    }
   ],
   "source": [
    "dummy_data.shape"
   ]
  },
  {
   "cell_type": "code",
   "execution_count": null,
   "id": "ca232a63",
   "metadata": {},
   "outputs": [],
   "source": []
  },
  {
   "cell_type": "markdown",
   "id": "b2431b0f",
   "metadata": {},
   "source": [
    "# TRAIN TEST SPLIT"
   ]
  },
  {
   "cell_type": "code",
   "execution_count": 68,
   "id": "5d11a131",
   "metadata": {},
   "outputs": [],
   "source": [
    "from sklearn.model_selection import train_test_split"
   ]
  },
  {
   "cell_type": "code",
   "execution_count": 69,
   "id": "f5d76966",
   "metadata": {},
   "outputs": [],
   "source": [
    "X = dummy_data.drop(\"cnt\" , axis = 1)\n",
    "\n",
    "y = dummy_data[\"cnt\"]"
   ]
  },
  {
   "cell_type": "code",
   "execution_count": 70,
   "id": "e4c48f34",
   "metadata": {},
   "outputs": [],
   "source": [
    "X_train, X_test, y_train, y_test = train_test_split(X, y, test_size=0.20, random_state=101)"
   ]
  },
  {
   "cell_type": "code",
   "execution_count": 71,
   "id": "c473abd4",
   "metadata": {},
   "outputs": [
    {
     "data": {
      "text/plain": [
       "(584, 29)"
      ]
     },
     "execution_count": 71,
     "metadata": {},
     "output_type": "execute_result"
    }
   ],
   "source": [
    "X_train.shape"
   ]
  },
  {
   "cell_type": "code",
   "execution_count": 72,
   "id": "103d0cc2",
   "metadata": {},
   "outputs": [
    {
     "data": {
      "text/plain": [
       "(146, 29)"
      ]
     },
     "execution_count": 72,
     "metadata": {},
     "output_type": "execute_result"
    }
   ],
   "source": [
    "X_test.shape"
   ]
  },
  {
   "cell_type": "code",
   "execution_count": null,
   "id": "0c341858",
   "metadata": {},
   "outputs": [],
   "source": []
  },
  {
   "cell_type": "markdown",
   "id": "7cda4c6b",
   "metadata": {},
   "source": [
    "# STANDARD SCALING THE DATA"
   ]
  },
  {
   "cell_type": "code",
   "execution_count": 73,
   "id": "25535c86",
   "metadata": {},
   "outputs": [],
   "source": [
    "from sklearn.preprocessing import StandardScaler"
   ]
  },
  {
   "cell_type": "code",
   "execution_count": 74,
   "id": "8741deef",
   "metadata": {},
   "outputs": [],
   "source": [
    "scaler = StandardScaler()"
   ]
  },
  {
   "cell_type": "code",
   "execution_count": 75,
   "id": "0a675c4a",
   "metadata": {},
   "outputs": [],
   "source": [
    "scaled_X_train = scaler.fit_transform(X_train)\n",
    "\n",
    "scaled_X_test = scaler.transform(X_test)"
   ]
  },
  {
   "cell_type": "code",
   "execution_count": null,
   "id": "22a39a60",
   "metadata": {},
   "outputs": [],
   "source": []
  },
  {
   "cell_type": "markdown",
   "id": "9f7e585e",
   "metadata": {},
   "source": [
    "# MODEL BUILDING"
   ]
  },
  {
   "cell_type": "code",
   "execution_count": null,
   "id": "1ab3f3c8",
   "metadata": {},
   "outputs": [],
   "source": []
  },
  {
   "cell_type": "markdown",
   "id": "dcfca8a8",
   "metadata": {},
   "source": [
    "### Model 1\n",
    "\n",
    "**Lets build this model without doing any feature selection**"
   ]
  },
  {
   "cell_type": "code",
   "execution_count": 76,
   "id": "dca0c82a",
   "metadata": {},
   "outputs": [],
   "source": [
    "from sklearn.linear_model import LinearRegression"
   ]
  },
  {
   "cell_type": "code",
   "execution_count": 77,
   "id": "03b3111a",
   "metadata": {},
   "outputs": [],
   "source": [
    "model1 = LinearRegression()"
   ]
  },
  {
   "cell_type": "code",
   "execution_count": 78,
   "id": "ffa3e98e",
   "metadata": {},
   "outputs": [
    {
     "data": {
      "text/plain": [
       "LinearRegression()"
      ]
     },
     "execution_count": 78,
     "metadata": {},
     "output_type": "execute_result"
    }
   ],
   "source": [
    "model1.fit(scaled_X_train , y_train)"
   ]
  },
  {
   "cell_type": "code",
   "execution_count": 79,
   "id": "e3468ad7",
   "metadata": {},
   "outputs": [],
   "source": [
    "y_pred1 = model1.predict(scaled_X_test)"
   ]
  },
  {
   "cell_type": "code",
   "execution_count": 80,
   "id": "9b6fe4e8",
   "metadata": {},
   "outputs": [],
   "source": [
    "#Evaluating the model"
   ]
  },
  {
   "cell_type": "code",
   "execution_count": 81,
   "id": "7276336e",
   "metadata": {},
   "outputs": [],
   "source": [
    "from sklearn.metrics import r2_score"
   ]
  },
  {
   "cell_type": "code",
   "execution_count": 82,
   "id": "ed911ddb",
   "metadata": {},
   "outputs": [
    {
     "data": {
      "text/plain": [
       "84.17"
      ]
     },
     "execution_count": 82,
     "metadata": {},
     "output_type": "execute_result"
    }
   ],
   "source": [
    "np.round( 100 * r2_score(y_test , y_pred1) , 2 )"
   ]
  },
  {
   "cell_type": "markdown",
   "id": "5d670e73",
   "metadata": {},
   "source": [
    "### Observation:\n",
    "\n",
    "So without doing any feature selection and without dropping any feature, our model1 is giving an r2 score of 84.17%"
   ]
  },
  {
   "cell_type": "code",
   "execution_count": null,
   "id": "83aa5e58",
   "metadata": {},
   "outputs": [],
   "source": []
  },
  {
   "cell_type": "markdown",
   "id": "137579a3",
   "metadata": {},
   "source": [
    "# FEATURE SELECTION"
   ]
  },
  {
   "cell_type": "markdown",
   "id": "e7bdc987",
   "metadata": {},
   "source": [
    "### USING P-VALUE METHOD"
   ]
  },
  {
   "cell_type": "markdown",
   "id": "fd26cc8e",
   "metadata": {},
   "source": [
    "So, following are our null and alternate hypothesis\n",
    "\n",
    "**H0 = The perticular feature is not Significant for the model.**\n",
    "\n",
    "**Ha = The perticular feature is Significant for the model.**\n",
    "\n",
    "\n",
    "**Here we will use statsmodel library and check the p-value of each independent variable. The confidence interval that we are taking is 95%. Hence, the probability of error which is alpha (given by 1 - Confidence Interval) is 0.05. Hence, for feature to be considered for modeling, its p-value has to be lesser than 0.05 because only then we will be in a position to reject null hypothesis. So, for the feature, when p-value < alpha i.e 0.05 then that feature is significant for our model.**"
   ]
  },
  {
   "cell_type": "code",
   "execution_count": 84,
   "id": "7872c2b6",
   "metadata": {},
   "outputs": [],
   "source": [
    "import statsmodels.api as sm"
   ]
  },
  {
   "cell_type": "markdown",
   "id": "7ccddb60",
   "metadata": {},
   "source": [
    "### MODEL 2\n",
    "\n",
    "#### Feature Selection using p-value method"
   ]
  },
  {
   "cell_type": "code",
   "execution_count": 90,
   "id": "fc38bbc9",
   "metadata": {},
   "outputs": [],
   "source": [
    " X_train, X_test, y_train, y_test = train_test_split(X, y, test_size=0.20, random_state=101)"
   ]
  },
  {
   "cell_type": "code",
   "execution_count": 91,
   "id": "ffe33f79",
   "metadata": {},
   "outputs": [],
   "source": [
    "from sklearn.preprocessing import StandardScaler"
   ]
  },
  {
   "cell_type": "code",
   "execution_count": 92,
   "id": "a9dc305e",
   "metadata": {},
   "outputs": [],
   "source": [
    "scaler = StandardScaler()"
   ]
  },
  {
   "cell_type": "code",
   "execution_count": 93,
   "id": "9b211da8",
   "metadata": {},
   "outputs": [],
   "source": [
    "num_variables = ['yr','temp', 'atemp', 'hum', 'windspeed']"
   ]
  },
  {
   "cell_type": "code",
   "execution_count": 94,
   "id": "c7cc4669",
   "metadata": {},
   "outputs": [],
   "source": [
    "X_train[num_variables] = scaler.fit_transform(X_train[num_variables])\n",
    "\n",
    "X_test[num_variables] = scaler.transform(X_test[num_variables])"
   ]
  },
  {
   "cell_type": "code",
   "execution_count": 95,
   "id": "2457a5a4",
   "metadata": {},
   "outputs": [],
   "source": [
    "import statsmodels.api as sm"
   ]
  },
  {
   "cell_type": "code",
   "execution_count": 96,
   "id": "465895fe",
   "metadata": {},
   "outputs": [],
   "source": [
    "#add_constant\n",
    "X_train_sm = sm.add_constant(X_train)"
   ]
  },
  {
   "cell_type": "code",
   "execution_count": 97,
   "id": "91833c83",
   "metadata": {},
   "outputs": [],
   "source": [
    "#OLS\n",
    "lr = sm.OLS(y_train , X_train_sm)"
   ]
  },
  {
   "cell_type": "code",
   "execution_count": 98,
   "id": "bde03962",
   "metadata": {},
   "outputs": [],
   "source": [
    "#fit\n",
    "lr_model = lr.fit()"
   ]
  },
  {
   "cell_type": "code",
   "execution_count": 99,
   "id": "2f644449",
   "metadata": {},
   "outputs": [
    {
     "data": {
      "text/html": [
       "<table class=\"simpletable\">\n",
       "<caption>OLS Regression Results</caption>\n",
       "<tr>\n",
       "  <th>Dep. Variable:</th>           <td>cnt</td>       <th>  R-squared:         </th> <td>   0.848</td> \n",
       "</tr>\n",
       "<tr>\n",
       "  <th>Model:</th>                   <td>OLS</td>       <th>  Adj. R-squared:    </th> <td>   0.840</td> \n",
       "</tr>\n",
       "<tr>\n",
       "  <th>Method:</th>             <td>Least Squares</td>  <th>  F-statistic:       </th> <td>   110.3</td> \n",
       "</tr>\n",
       "<tr>\n",
       "  <th>Date:</th>             <td>Tue, 08 Aug 2023</td> <th>  Prob (F-statistic):</th> <td>2.45e-206</td>\n",
       "</tr>\n",
       "<tr>\n",
       "  <th>Time:</th>                 <td>16:19:22</td>     <th>  Log-Likelihood:    </th> <td> -4695.2</td> \n",
       "</tr>\n",
       "<tr>\n",
       "  <th>No. Observations:</th>      <td>   584</td>      <th>  AIC:               </th> <td>   9448.</td> \n",
       "</tr>\n",
       "<tr>\n",
       "  <th>Df Residuals:</th>          <td>   555</td>      <th>  BIC:               </th> <td>   9575.</td> \n",
       "</tr>\n",
       "<tr>\n",
       "  <th>Df Model:</th>              <td>    28</td>      <th>                     </th>     <td> </td>    \n",
       "</tr>\n",
       "<tr>\n",
       "  <th>Covariance Type:</th>      <td>nonrobust</td>    <th>                     </th>     <td> </td>    \n",
       "</tr>\n",
       "</table>\n",
       "<table class=\"simpletable\">\n",
       "<tr>\n",
       "            <td></td>               <th>coef</th>     <th>std err</th>      <th>t</th>      <th>P>|t|</th>  <th>[0.025</th>    <th>0.975]</th>  \n",
       "</tr>\n",
       "<tr>\n",
       "  <th>const</th>                 <td> 3687.6195</td> <td>  195.340</td> <td>   18.878</td> <td> 0.000</td> <td> 3303.924</td> <td> 4071.315</td>\n",
       "</tr>\n",
       "<tr>\n",
       "  <th>yr</th>                    <td> 1018.0599</td> <td>   32.890</td> <td>   30.953</td> <td> 0.000</td> <td>  953.455</td> <td> 1082.664</td>\n",
       "</tr>\n",
       "<tr>\n",
       "  <th>holiday</th>               <td>  501.8766</td> <td>  181.428</td> <td>    2.766</td> <td> 0.006</td> <td>  145.508</td> <td>  858.246</td>\n",
       "</tr>\n",
       "<tr>\n",
       "  <th>workingday</th>            <td> 1152.0671</td> <td>   87.504</td> <td>   13.166</td> <td> 0.000</td> <td>  980.188</td> <td> 1323.946</td>\n",
       "</tr>\n",
       "<tr>\n",
       "  <th>temp</th>                  <td>   92.6493</td> <td>  484.977</td> <td>    0.191</td> <td> 0.849</td> <td> -859.966</td> <td> 1045.265</td>\n",
       "</tr>\n",
       "<tr>\n",
       "  <th>atemp</th>                 <td>  732.5112</td> <td>  464.139</td> <td>    1.578</td> <td> 0.115</td> <td> -179.173</td> <td> 1644.195</td>\n",
       "</tr>\n",
       "<tr>\n",
       "  <th>hum</th>                   <td> -234.2472</td> <td>   48.466</td> <td>   -4.833</td> <td> 0.000</td> <td> -329.446</td> <td> -139.048</td>\n",
       "</tr>\n",
       "<tr>\n",
       "  <th>windspeed</th>             <td> -238.7256</td> <td>   37.547</td> <td>   -6.358</td> <td> 0.000</td> <td> -312.478</td> <td> -164.973</td>\n",
       "</tr>\n",
       "<tr>\n",
       "  <th>season_spring</th>         <td> -614.5953</td> <td>  243.191</td> <td>   -2.527</td> <td> 0.012</td> <td>-1092.283</td> <td> -136.908</td>\n",
       "</tr>\n",
       "<tr>\n",
       "  <th>season_summer</th>         <td>  111.1189</td> <td>  203.711</td> <td>    0.545</td> <td> 0.586</td> <td> -289.020</td> <td>  511.257</td>\n",
       "</tr>\n",
       "<tr>\n",
       "  <th>season_winter</th>         <td> 1013.9418</td> <td>  224.039</td> <td>    4.526</td> <td> 0.000</td> <td>  573.874</td> <td> 1454.009</td>\n",
       "</tr>\n",
       "<tr>\n",
       "  <th>mnth_Aug</th>              <td>   80.2252</td> <td>  274.910</td> <td>    0.292</td> <td> 0.771</td> <td> -459.766</td> <td>  620.216</td>\n",
       "</tr>\n",
       "<tr>\n",
       "  <th>mnth_Dec</th>              <td> -686.1167</td> <td>  277.534</td> <td>   -2.472</td> <td> 0.014</td> <td>-1231.261</td> <td> -140.972</td>\n",
       "</tr>\n",
       "<tr>\n",
       "  <th>mnth_Feb</th>              <td> -381.5942</td> <td>  265.363</td> <td>   -1.438</td> <td> 0.151</td> <td> -902.832</td> <td>  139.644</td>\n",
       "</tr>\n",
       "<tr>\n",
       "  <th>mnth_Jan</th>              <td> -534.2944</td> <td>  275.237</td> <td>   -1.941</td> <td> 0.053</td> <td>-1074.928</td> <td>    6.339</td>\n",
       "</tr>\n",
       "<tr>\n",
       "  <th>mnth_Jul</th>              <td> -299.6105</td> <td>  280.413</td> <td>   -1.068</td> <td> 0.286</td> <td> -850.411</td> <td>  251.190</td>\n",
       "</tr>\n",
       "<tr>\n",
       "  <th>mnth_Jun</th>              <td>   61.7319</td> <td>  201.792</td> <td>    0.306</td> <td> 0.760</td> <td> -334.638</td> <td>  458.102</td>\n",
       "</tr>\n",
       "<tr>\n",
       "  <th>mnth_Mar</th>              <td>   79.9474</td> <td>  209.165</td> <td>    0.382</td> <td> 0.702</td> <td> -330.905</td> <td>  490.800</td>\n",
       "</tr>\n",
       "<tr>\n",
       "  <th>mnth_May</th>              <td>  324.3726</td> <td>  171.833</td> <td>    1.888</td> <td> 0.060</td> <td>  -13.151</td> <td>  661.896</td>\n",
       "</tr>\n",
       "<tr>\n",
       "  <th>mnth_Nov</th>              <td> -762.0074</td> <td>  299.450</td> <td>   -2.545</td> <td> 0.011</td> <td>-1350.201</td> <td> -173.814</td>\n",
       "</tr>\n",
       "<tr>\n",
       "  <th>mnth_Oct</th>              <td> -156.7193</td> <td>  293.949</td> <td>   -0.533</td> <td> 0.594</td> <td> -734.108</td> <td>  420.670</td>\n",
       "</tr>\n",
       "<tr>\n",
       "  <th>mnth_Sep</th>              <td>  538.3037</td> <td>  259.873</td> <td>    2.071</td> <td> 0.039</td> <td>   27.849</td> <td> 1048.759</td>\n",
       "</tr>\n",
       "<tr>\n",
       "  <th>weekday_Mon</th>           <td> -217.7871</td> <td>  124.904</td> <td>   -1.744</td> <td> 0.082</td> <td> -463.129</td> <td>   27.555</td>\n",
       "</tr>\n",
       "<tr>\n",
       "  <th>weekday_Sat</th>           <td> 1212.7513</td> <td>   99.876</td> <td>   12.143</td> <td> 0.000</td> <td> 1016.570</td> <td> 1408.932</td>\n",
       "</tr>\n",
       "<tr>\n",
       "  <th>weekday_Sun</th>           <td>  820.9245</td> <td>   99.548</td> <td>    8.247</td> <td> 0.000</td> <td>  625.388</td> <td> 1016.461</td>\n",
       "</tr>\n",
       "<tr>\n",
       "  <th>weekday_Thu</th>           <td>  -14.5773</td> <td>  120.105</td> <td>   -0.121</td> <td> 0.903</td> <td> -250.493</td> <td>  221.338</td>\n",
       "</tr>\n",
       "<tr>\n",
       "  <th>weekday_Tue</th>           <td> -114.0707</td> <td>  122.600</td> <td>   -0.930</td> <td> 0.353</td> <td> -354.887</td> <td>  126.746</td>\n",
       "</tr>\n",
       "<tr>\n",
       "  <th>weekday_Wed</th>           <td>  -65.8244</td> <td>  123.394</td> <td>   -0.533</td> <td> 0.594</td> <td> -308.201</td> <td>  176.552</td>\n",
       "</tr>\n",
       "<tr>\n",
       "  <th>weathersit_Cloudy</th>     <td> -434.2741</td> <td>   89.120</td> <td>   -4.873</td> <td> 0.000</td> <td> -609.327</td> <td> -259.221</td>\n",
       "</tr>\n",
       "<tr>\n",
       "  <th>weathersit_Light Rain</th> <td>-1886.0735</td> <td>  236.834</td> <td>   -7.964</td> <td> 0.000</td> <td>-2351.273</td> <td>-1420.874</td>\n",
       "</tr>\n",
       "</table>\n",
       "<table class=\"simpletable\">\n",
       "<tr>\n",
       "  <th>Omnibus:</th>       <td>111.676</td> <th>  Durbin-Watson:     </th> <td>   1.861</td>\n",
       "</tr>\n",
       "<tr>\n",
       "  <th>Prob(Omnibus):</th> <td> 0.000</td>  <th>  Jarque-Bera (JB):  </th> <td> 313.899</td>\n",
       "</tr>\n",
       "<tr>\n",
       "  <th>Skew:</th>          <td>-0.934</td>  <th>  Prob(JB):          </th> <td>6.88e-69</td>\n",
       "</tr>\n",
       "<tr>\n",
       "  <th>Kurtosis:</th>      <td> 6.068</td>  <th>  Cond. No.          </th> <td>2.00e+15</td>\n",
       "</tr>\n",
       "</table><br/><br/>Notes:<br/>[1] Standard Errors assume that the covariance matrix of the errors is correctly specified.<br/>[2] The smallest eigenvalue is 3.33e-28. This might indicate that there are<br/>strong multicollinearity problems or that the design matrix is singular."
      ],
      "text/plain": [
       "<class 'statsmodels.iolib.summary.Summary'>\n",
       "\"\"\"\n",
       "                            OLS Regression Results                            \n",
       "==============================================================================\n",
       "Dep. Variable:                    cnt   R-squared:                       0.848\n",
       "Model:                            OLS   Adj. R-squared:                  0.840\n",
       "Method:                 Least Squares   F-statistic:                     110.3\n",
       "Date:                Tue, 08 Aug 2023   Prob (F-statistic):          2.45e-206\n",
       "Time:                        16:19:22   Log-Likelihood:                -4695.2\n",
       "No. Observations:                 584   AIC:                             9448.\n",
       "Df Residuals:                     555   BIC:                             9575.\n",
       "Df Model:                          28                                         \n",
       "Covariance Type:            nonrobust                                         \n",
       "=========================================================================================\n",
       "                            coef    std err          t      P>|t|      [0.025      0.975]\n",
       "-----------------------------------------------------------------------------------------\n",
       "const                  3687.6195    195.340     18.878      0.000    3303.924    4071.315\n",
       "yr                     1018.0599     32.890     30.953      0.000     953.455    1082.664\n",
       "holiday                 501.8766    181.428      2.766      0.006     145.508     858.246\n",
       "workingday             1152.0671     87.504     13.166      0.000     980.188    1323.946\n",
       "temp                     92.6493    484.977      0.191      0.849    -859.966    1045.265\n",
       "atemp                   732.5112    464.139      1.578      0.115    -179.173    1644.195\n",
       "hum                    -234.2472     48.466     -4.833      0.000    -329.446    -139.048\n",
       "windspeed              -238.7256     37.547     -6.358      0.000    -312.478    -164.973\n",
       "season_spring          -614.5953    243.191     -2.527      0.012   -1092.283    -136.908\n",
       "season_summer           111.1189    203.711      0.545      0.586    -289.020     511.257\n",
       "season_winter          1013.9418    224.039      4.526      0.000     573.874    1454.009\n",
       "mnth_Aug                 80.2252    274.910      0.292      0.771    -459.766     620.216\n",
       "mnth_Dec               -686.1167    277.534     -2.472      0.014   -1231.261    -140.972\n",
       "mnth_Feb               -381.5942    265.363     -1.438      0.151    -902.832     139.644\n",
       "mnth_Jan               -534.2944    275.237     -1.941      0.053   -1074.928       6.339\n",
       "mnth_Jul               -299.6105    280.413     -1.068      0.286    -850.411     251.190\n",
       "mnth_Jun                 61.7319    201.792      0.306      0.760    -334.638     458.102\n",
       "mnth_Mar                 79.9474    209.165      0.382      0.702    -330.905     490.800\n",
       "mnth_May                324.3726    171.833      1.888      0.060     -13.151     661.896\n",
       "mnth_Nov               -762.0074    299.450     -2.545      0.011   -1350.201    -173.814\n",
       "mnth_Oct               -156.7193    293.949     -0.533      0.594    -734.108     420.670\n",
       "mnth_Sep                538.3037    259.873      2.071      0.039      27.849    1048.759\n",
       "weekday_Mon            -217.7871    124.904     -1.744      0.082    -463.129      27.555\n",
       "weekday_Sat            1212.7513     99.876     12.143      0.000    1016.570    1408.932\n",
       "weekday_Sun             820.9245     99.548      8.247      0.000     625.388    1016.461\n",
       "weekday_Thu             -14.5773    120.105     -0.121      0.903    -250.493     221.338\n",
       "weekday_Tue            -114.0707    122.600     -0.930      0.353    -354.887     126.746\n",
       "weekday_Wed             -65.8244    123.394     -0.533      0.594    -308.201     176.552\n",
       "weathersit_Cloudy      -434.2741     89.120     -4.873      0.000    -609.327    -259.221\n",
       "weathersit_Light Rain -1886.0735    236.834     -7.964      0.000   -2351.273   -1420.874\n",
       "==============================================================================\n",
       "Omnibus:                      111.676   Durbin-Watson:                   1.861\n",
       "Prob(Omnibus):                  0.000   Jarque-Bera (JB):              313.899\n",
       "Skew:                          -0.934   Prob(JB):                     6.88e-69\n",
       "Kurtosis:                       6.068   Cond. No.                     2.00e+15\n",
       "==============================================================================\n",
       "\n",
       "Notes:\n",
       "[1] Standard Errors assume that the covariance matrix of the errors is correctly specified.\n",
       "[2] The smallest eigenvalue is 3.33e-28. This might indicate that there are\n",
       "strong multicollinearity problems or that the design matrix is singular.\n",
       "\"\"\""
      ]
     },
     "execution_count": 99,
     "metadata": {},
     "output_type": "execute_result"
    }
   ],
   "source": [
    "#summary\n",
    "lr_model.summary()"
   ]
  },
  {
   "cell_type": "code",
   "execution_count": 100,
   "id": "8232e3da",
   "metadata": {},
   "outputs": [],
   "source": [
    "X_train = X_train.drop(\"weekday_Thu\" , axis = 1)"
   ]
  },
  {
   "cell_type": "code",
   "execution_count": 101,
   "id": "1856c281",
   "metadata": {},
   "outputs": [],
   "source": [
    "X_test = X_test.drop(\"weekday_Thu\" , axis = 1)"
   ]
  },
  {
   "cell_type": "code",
   "execution_count": 102,
   "id": "65d47895",
   "metadata": {},
   "outputs": [],
   "source": [
    "model2 = LinearRegression()"
   ]
  },
  {
   "cell_type": "code",
   "execution_count": 103,
   "id": "e210a216",
   "metadata": {},
   "outputs": [
    {
     "data": {
      "text/plain": [
       "LinearRegression()"
      ]
     },
     "execution_count": 103,
     "metadata": {},
     "output_type": "execute_result"
    }
   ],
   "source": [
    "model2.fit(X_train , y_train)"
   ]
  },
  {
   "cell_type": "code",
   "execution_count": 104,
   "id": "ed7c03ae",
   "metadata": {},
   "outputs": [],
   "source": [
    "y_pred2 = model2.predict(X_test)"
   ]
  },
  {
   "cell_type": "code",
   "execution_count": 105,
   "id": "d2309f2d",
   "metadata": {},
   "outputs": [
    {
     "data": {
      "text/plain": [
       "0.8417127760283876"
      ]
     },
     "execution_count": 105,
     "metadata": {},
     "output_type": "execute_result"
    }
   ],
   "source": [
    "r2_score(y_test, y_pred2)"
   ]
  },
  {
   "cell_type": "markdown",
   "id": "12e77cb1",
   "metadata": {},
   "source": [
    "### Observation:\n",
    "\n",
    "We see that our r2 score has not changed even after dropping weekday_Thu column. "
   ]
  },
  {
   "cell_type": "code",
   "execution_count": null,
   "id": "00410948",
   "metadata": {},
   "outputs": [],
   "source": []
  },
  {
   "cell_type": "markdown",
   "id": "40bfb0d5",
   "metadata": {},
   "source": [
    "### MODEL 3"
   ]
  },
  {
   "cell_type": "code",
   "execution_count": 106,
   "id": "b24c2797",
   "metadata": {},
   "outputs": [],
   "source": [
    "X_train = X_train.drop(\"temp\" , axis = 1)"
   ]
  },
  {
   "cell_type": "code",
   "execution_count": 107,
   "id": "688c73bf",
   "metadata": {},
   "outputs": [],
   "source": [
    "X_test = X_test.drop(\"temp\" , axis = 1)"
   ]
  },
  {
   "cell_type": "code",
   "execution_count": 108,
   "id": "915e037c",
   "metadata": {},
   "outputs": [],
   "source": [
    "model2 = LinearRegression()\n",
    "model2.fit(X_train , y_train)\n",
    "y_pred2 = model2.predict(X_test)"
   ]
  },
  {
   "cell_type": "code",
   "execution_count": 109,
   "id": "acef9945",
   "metadata": {},
   "outputs": [
    {
     "data": {
      "text/plain": [
       "0.84"
      ]
     },
     "execution_count": 109,
     "metadata": {},
     "output_type": "execute_result"
    }
   ],
   "source": [
    "np.round(r2_score(y_test, y_pred2),2)"
   ]
  },
  {
   "cell_type": "markdown",
   "id": "8c8ad054",
   "metadata": {},
   "source": [
    "### Observation:\n",
    "\n",
    "We see that r2 score is still same even after dropping temp column."
   ]
  },
  {
   "cell_type": "code",
   "execution_count": null,
   "id": "a9ccd9a3",
   "metadata": {},
   "outputs": [],
   "source": []
  },
  {
   "cell_type": "markdown",
   "id": "b6869a9c",
   "metadata": {},
   "source": [
    "### MODEL 4"
   ]
  },
  {
   "cell_type": "code",
   "execution_count": 110,
   "id": "fa19327b",
   "metadata": {},
   "outputs": [],
   "source": [
    "X_train = X_train.drop(\"mnth_Jun\" , axis = 1)"
   ]
  },
  {
   "cell_type": "code",
   "execution_count": 111,
   "id": "ed764d45",
   "metadata": {},
   "outputs": [],
   "source": [
    "X_test = X_test.drop(\"mnth_Jun\" , axis = 1)"
   ]
  },
  {
   "cell_type": "code",
   "execution_count": 112,
   "id": "7a568ebd",
   "metadata": {},
   "outputs": [],
   "source": [
    "model2 = LinearRegression()\n",
    "model2.fit(X_train , y_train)\n",
    "y_pred2 = model2.predict(X_test)"
   ]
  },
  {
   "cell_type": "code",
   "execution_count": 113,
   "id": "ffea3961",
   "metadata": {},
   "outputs": [
    {
     "data": {
      "text/plain": [
       "0.84"
      ]
     },
     "execution_count": 113,
     "metadata": {},
     "output_type": "execute_result"
    }
   ],
   "source": [
    "np.round(r2_score(y_test, y_pred2),2)"
   ]
  },
  {
   "cell_type": "markdown",
   "id": "3fa6ee72",
   "metadata": {},
   "source": [
    "### Observation:\n",
    "\n",
    "We see that r2 score is still same even after dropping mnth_Jun column."
   ]
  },
  {
   "cell_type": "code",
   "execution_count": null,
   "id": "c05a1cde",
   "metadata": {},
   "outputs": [],
   "source": []
  },
  {
   "cell_type": "markdown",
   "id": "913bf247",
   "metadata": {},
   "source": [
    "### MODEL 5"
   ]
  },
  {
   "cell_type": "code",
   "execution_count": 114,
   "id": "5f43bfd7",
   "metadata": {},
   "outputs": [],
   "source": [
    "X_train = X_train.drop(\"mnth_Aug\" , axis = 1)\n",
    "\n",
    "X_test = X_test.drop(\"mnth_Aug\" , axis = 1)"
   ]
  },
  {
   "cell_type": "code",
   "execution_count": 115,
   "id": "99ede1ce",
   "metadata": {},
   "outputs": [],
   "source": [
    "model = LinearRegression()\n",
    "model.fit(X_train , y_train)\n",
    "y_pred = model.predict(X_test)"
   ]
  },
  {
   "cell_type": "code",
   "execution_count": 116,
   "id": "13fe2cab",
   "metadata": {},
   "outputs": [
    {
     "data": {
      "text/plain": [
       "0.84"
      ]
     },
     "execution_count": 116,
     "metadata": {},
     "output_type": "execute_result"
    }
   ],
   "source": [
    "np.round(r2_score(y_test, y_pred),2)"
   ]
  },
  {
   "cell_type": "markdown",
   "id": "d1b7e9f5",
   "metadata": {},
   "source": [
    "### Observation:\n",
    "\n",
    "We see that r2 score is still same even after dropping mnth_Aug column."
   ]
  },
  {
   "cell_type": "code",
   "execution_count": null,
   "id": "876d169b",
   "metadata": {},
   "outputs": [],
   "source": []
  },
  {
   "cell_type": "markdown",
   "id": "9437e9a0",
   "metadata": {},
   "source": [
    "### MODEL 6"
   ]
  },
  {
   "cell_type": "code",
   "execution_count": 117,
   "id": "374432a6",
   "metadata": {},
   "outputs": [],
   "source": [
    "X_train = X_train.drop(\"mnth_Mar\" , axis = 1)\n",
    "\n",
    "X_test = X_test.drop(\"mnth_Mar\" , axis = 1)"
   ]
  },
  {
   "cell_type": "code",
   "execution_count": 118,
   "id": "0432a537",
   "metadata": {},
   "outputs": [],
   "source": [
    "model = LinearRegression()\n",
    "model.fit(X_train , y_train)\n",
    "y_pred = model.predict(X_test)"
   ]
  },
  {
   "cell_type": "code",
   "execution_count": 119,
   "id": "5a1d782e",
   "metadata": {},
   "outputs": [
    {
     "data": {
      "text/plain": [
       "0.8393124342325735"
      ]
     },
     "execution_count": 119,
     "metadata": {},
     "output_type": "execute_result"
    }
   ],
   "source": [
    "r2_score(y_test, y_pred)"
   ]
  },
  {
   "cell_type": "markdown",
   "id": "ac3aa4d0",
   "metadata": {},
   "source": [
    "### Observation:\n",
    "\n",
    "We see that r2 score is still same even after dropping mnth_Mar column."
   ]
  },
  {
   "cell_type": "code",
   "execution_count": null,
   "id": "dfaf46ae",
   "metadata": {},
   "outputs": [],
   "source": []
  },
  {
   "cell_type": "markdown",
   "id": "65f3d74d",
   "metadata": {},
   "source": [
    "### MODEL 7"
   ]
  },
  {
   "cell_type": "code",
   "execution_count": 120,
   "id": "cc1635a4",
   "metadata": {},
   "outputs": [],
   "source": [
    "X_train = X_train.drop(\"mnth_Oct\" , axis = 1)\n",
    "\n",
    "X_test = X_test.drop(\"mnth_Oct\" , axis = 1)"
   ]
  },
  {
   "cell_type": "code",
   "execution_count": 121,
   "id": "7b35cc0b",
   "metadata": {},
   "outputs": [],
   "source": [
    "model = LinearRegression()\n",
    "model.fit(X_train , y_train)\n",
    "y_pred = model.predict(X_test)"
   ]
  },
  {
   "cell_type": "code",
   "execution_count": 122,
   "id": "27f3e14d",
   "metadata": {},
   "outputs": [
    {
     "data": {
      "text/plain": [
       "0.8419542878483509"
      ]
     },
     "execution_count": 122,
     "metadata": {},
     "output_type": "execute_result"
    }
   ],
   "source": [
    "r2_score(y_test, y_pred)"
   ]
  },
  {
   "cell_type": "markdown",
   "id": "83809e79",
   "metadata": {},
   "source": [
    "### Observation:\n",
    "\n",
    "We see that r2 score is still same even after dropping mnth_Oct column."
   ]
  },
  {
   "cell_type": "code",
   "execution_count": null,
   "id": "bb4f5277",
   "metadata": {},
   "outputs": [],
   "source": []
  },
  {
   "cell_type": "markdown",
   "id": "de638868",
   "metadata": {},
   "source": [
    "### MODEL 8"
   ]
  },
  {
   "cell_type": "code",
   "execution_count": 123,
   "id": "d1a6fc5a",
   "metadata": {},
   "outputs": [],
   "source": [
    "X_train = X_train.drop(\"weekday_Wed\" , axis = 1)\n",
    "\n",
    "X_test = X_test.drop(\"weekday_Wed\" , axis = 1)"
   ]
  },
  {
   "cell_type": "code",
   "execution_count": 124,
   "id": "a4cd9d8a",
   "metadata": {},
   "outputs": [],
   "source": [
    "model = LinearRegression()\n",
    "model.fit(X_train , y_train)\n",
    "y_pred = model.predict(X_test)"
   ]
  },
  {
   "cell_type": "code",
   "execution_count": 125,
   "id": "89256db4",
   "metadata": {},
   "outputs": [
    {
     "data": {
      "text/plain": [
       "0.8422928589750345"
      ]
     },
     "execution_count": 125,
     "metadata": {},
     "output_type": "execute_result"
    }
   ],
   "source": [
    "r2_score(y_test, y_pred)"
   ]
  },
  {
   "cell_type": "markdown",
   "id": "4c652674",
   "metadata": {},
   "source": [
    "### Observation:\n",
    "\n",
    "We see that r2 score is still same even after dropping weekday_Wed column."
   ]
  },
  {
   "cell_type": "code",
   "execution_count": null,
   "id": "8ecb9d6f",
   "metadata": {},
   "outputs": [],
   "source": []
  },
  {
   "cell_type": "markdown",
   "id": "3fc8fe8d",
   "metadata": {},
   "source": [
    "### MODEL 9"
   ]
  },
  {
   "cell_type": "code",
   "execution_count": 126,
   "id": "d43fe3ea",
   "metadata": {},
   "outputs": [],
   "source": [
    "X_train = X_train.drop(\"season_summer\" , axis = 1)\n",
    "\n",
    "X_test = X_test.drop(\"season_summer\" , axis = 1)"
   ]
  },
  {
   "cell_type": "code",
   "execution_count": 127,
   "id": "41a3b35f",
   "metadata": {},
   "outputs": [],
   "source": [
    "model = LinearRegression()\n",
    "model.fit(X_train , y_train)\n",
    "y_pred = model.predict(X_test)"
   ]
  },
  {
   "cell_type": "code",
   "execution_count": 128,
   "id": "354445a5",
   "metadata": {},
   "outputs": [
    {
     "data": {
      "text/plain": [
       "0.8429000489307448"
      ]
     },
     "execution_count": 128,
     "metadata": {},
     "output_type": "execute_result"
    }
   ],
   "source": [
    "r2_score(y_test, y_pred)"
   ]
  },
  {
   "cell_type": "markdown",
   "id": "7b86f828",
   "metadata": {},
   "source": [
    "### Observation:\n",
    "\n",
    "We see that r2 score is still same even after dropping season_summer column."
   ]
  },
  {
   "cell_type": "code",
   "execution_count": null,
   "id": "1bf5a21b",
   "metadata": {},
   "outputs": [],
   "source": []
  },
  {
   "cell_type": "markdown",
   "id": "dcd27a52",
   "metadata": {},
   "source": [
    "### MODEL 10"
   ]
  },
  {
   "cell_type": "code",
   "execution_count": 129,
   "id": "db51e1d0",
   "metadata": {},
   "outputs": [],
   "source": [
    "X_train = X_train.drop(\"weekday_Tue\" , axis = 1)\n",
    "\n",
    "X_test = X_test.drop(\"weekday_Tue\" , axis = 1)"
   ]
  },
  {
   "cell_type": "code",
   "execution_count": 130,
   "id": "5e860792",
   "metadata": {},
   "outputs": [],
   "source": [
    "model = LinearRegression()\n",
    "model.fit(X_train , y_train)\n",
    "y_pred = model.predict(X_test)"
   ]
  },
  {
   "cell_type": "code",
   "execution_count": 131,
   "id": "2f9c1703",
   "metadata": {},
   "outputs": [
    {
     "data": {
      "text/plain": [
       "0.8422525268988091"
      ]
     },
     "execution_count": 131,
     "metadata": {},
     "output_type": "execute_result"
    }
   ],
   "source": [
    "r2_score(y_test, y_pred)"
   ]
  },
  {
   "cell_type": "markdown",
   "id": "c4bb879c",
   "metadata": {},
   "source": [
    "### Observation:\n",
    "\n",
    "We see that r2 score is still same even after dropping season_summer column."
   ]
  },
  {
   "cell_type": "code",
   "execution_count": null,
   "id": "4d4d1f9e",
   "metadata": {},
   "outputs": [],
   "source": []
  },
  {
   "cell_type": "markdown",
   "id": "87c1d83b",
   "metadata": {},
   "source": [
    "### MODEL 11"
   ]
  },
  {
   "cell_type": "code",
   "execution_count": 132,
   "id": "38529837",
   "metadata": {},
   "outputs": [],
   "source": [
    "X_train = X_train.drop(\"mnth_Jul\" , axis = 1)\n",
    "\n",
    "X_test = X_test.drop(\"mnth_Jul\" , axis = 1)"
   ]
  },
  {
   "cell_type": "code",
   "execution_count": 133,
   "id": "993411eb",
   "metadata": {},
   "outputs": [],
   "source": [
    "model = LinearRegression()\n",
    "model.fit(X_train , y_train)\n",
    "y_pred = model.predict(X_test)"
   ]
  },
  {
   "cell_type": "code",
   "execution_count": 134,
   "id": "1a40a650",
   "metadata": {},
   "outputs": [
    {
     "data": {
      "text/plain": [
       "0.8379704902737974"
      ]
     },
     "execution_count": 134,
     "metadata": {},
     "output_type": "execute_result"
    }
   ],
   "source": [
    "r2_score(y_test, y_pred)"
   ]
  },
  {
   "cell_type": "markdown",
   "id": "12f19ce9",
   "metadata": {},
   "source": [
    "### Observation:\n",
    "\n",
    "We see that r2 score is still same even after dropping mnth_Jul column."
   ]
  },
  {
   "cell_type": "code",
   "execution_count": null,
   "id": "7a436079",
   "metadata": {},
   "outputs": [],
   "source": []
  },
  {
   "cell_type": "markdown",
   "id": "3823d0c1",
   "metadata": {},
   "source": [
    "### MODEL 12"
   ]
  },
  {
   "cell_type": "code",
   "execution_count": 135,
   "id": "16de2ee1",
   "metadata": {},
   "outputs": [],
   "source": [
    "X_train = X_train.drop(\"mnth_Feb\" , axis = 1)\n",
    "\n",
    "X_test = X_test.drop(\"mnth_Feb\" , axis = 1)"
   ]
  },
  {
   "cell_type": "code",
   "execution_count": 136,
   "id": "d02a1788",
   "metadata": {},
   "outputs": [],
   "source": [
    "model = LinearRegression()\n",
    "model.fit(X_train , y_train)\n",
    "y_pred = model.predict(X_test)"
   ]
  },
  {
   "cell_type": "code",
   "execution_count": 137,
   "id": "684d8578",
   "metadata": {},
   "outputs": [
    {
     "data": {
      "text/plain": [
       "0.8376578808319163"
      ]
     },
     "execution_count": 137,
     "metadata": {},
     "output_type": "execute_result"
    }
   ],
   "source": [
    "r2_score(y_test, y_pred)"
   ]
  },
  {
   "cell_type": "markdown",
   "id": "664df18a",
   "metadata": {},
   "source": [
    "### Observation:\n",
    "\n",
    "We see that r2 score is still same even after dropping mnth_Feb column."
   ]
  },
  {
   "cell_type": "code",
   "execution_count": 138,
   "id": "58e46be0",
   "metadata": {},
   "outputs": [
    {
     "data": {
      "text/plain": [
       "(584, 18)"
      ]
     },
     "execution_count": 138,
     "metadata": {},
     "output_type": "execute_result"
    }
   ],
   "source": [
    "X_train.shape"
   ]
  },
  {
   "cell_type": "markdown",
   "id": "5ae31156",
   "metadata": {},
   "source": [
    "# CONSOLIDATED OBSERVATION FROM ALL MODELS"
   ]
  },
  {
   "cell_type": "markdown",
   "id": "f16b366f",
   "metadata": {},
   "source": [
    "The original shape of X_train was 29 columns and the r2 score that we were able to achieve with these 29 columns was around 84.17%. However, after building 12 different models where we dropped several independent variables based on their P-values the number of independent variables were reduced to only 18 variables out of 29 and still we were able to get the r2 score of 83.76% which is in line with the the first model where we considered 29 independent variables. So we conclude that there are 18 significant variables in the dataset that can predict our target variable using multiple linear regression."
   ]
  },
  {
   "cell_type": "code",
   "execution_count": null,
   "id": "611b8217",
   "metadata": {},
   "outputs": [],
   "source": []
  }
 ],
 "metadata": {
  "kernelspec": {
   "display_name": "Python 3 (ipykernel)",
   "language": "python",
   "name": "python3"
  },
  "language_info": {
   "codemirror_mode": {
    "name": "ipython",
    "version": 3
   },
   "file_extension": ".py",
   "mimetype": "text/x-python",
   "name": "python",
   "nbconvert_exporter": "python",
   "pygments_lexer": "ipython3",
   "version": "3.9.12"
  }
 },
 "nbformat": 4,
 "nbformat_minor": 5
}
